{
 "cells": [
  {
   "cell_type": "code",
   "execution_count": 42,
   "id": "1d2516c0",
   "metadata": {},
   "outputs": [],
   "source": [
    "label_map = {0: \"Angry\", 1: \"Fear\", 2: \"Happy\", 3: \"Neutral\", 4: \"Sad\", 5: \"Surprise\"}"
   ]
  },
  {
   "cell_type": "code",
   "execution_count": 43,
   "id": "5cbbfc7d",
   "metadata": {},
   "outputs": [],
   "source": [
    "from keras.models import Model, Sequential\n",
    "from keras.layers import Conv2D, Dense, Embedding, Activation, \\\n",
    "MaxPooling2D, GlobalAveragePooling2D, SpatialDropout2D, Flatten, BatchNormalization\n",
    "from keras.applications import VGG16"
   ]
  },
  {
   "cell_type": "code",
   "execution_count": 150,
   "id": "5e7fc3b8",
   "metadata": {},
   "outputs": [],
   "source": [
    "from keras.optimizers import Adam, SGD\n",
    "\n",
    "model_1 = VGG16(weights = 'imagenet', input_shape=(224, 224, 3), include_top = False)\n",
    "\n",
    "model_1.trainable = False\n",
    "\n",
    "\n",
    "model_2 = Sequential()\n",
    "\n",
    "model_2.add(Conv2D(128, (5, 5), padding='same', input_shape=model_1.output_shape[1:]))\n",
    "model_2.add(Conv2D(256, kernel_size=(3, 3), activation='relu', padding='same'))\n",
    "model_2.add(BatchNormalization())\n",
    "model_2.add(MaxPooling2D(pool_size=(2, 2)))\n",
    "model_2.add(SpatialDropout2D(0.25))\n",
    "\n",
    "model_2.add(Flatten())\n",
    "\n",
    "model_2.add(Dense(64, activation='relu'))\n",
    "model_2.add(Dense(256, activation='relu'))\n",
    "model_2.add(Dense(6, activation='softmax'))\n",
    "\n",
    "model = Model(inputs=model_1.input, outputs=model_2(model_1.output))\n",
    "    \n",
    "model.compile(optimizer=Adam(learning_rate=0.0001), \n",
    "                  loss='categorical_crossentropy', \n",
    "                  metrics=['accuracy'])\n",
    "\n",
    "model.load_weights(\"/Users/jasur/desktop/CustomVGG.h5 copy 2\")"
   ]
  },
  {
   "cell_type": "code",
   "execution_count": 152,
   "id": "9f276be7",
   "metadata": {},
   "outputs": [
    {
     "name": "stdout",
     "output_type": "stream",
     "text": [
      "input_8\n",
      "block1_conv1\n",
      "block1_conv2\n",
      "block1_pool\n",
      "block2_conv1\n",
      "block2_conv2\n",
      "block2_pool\n",
      "block3_conv1\n",
      "block3_conv2\n",
      "block3_conv3\n",
      "block3_pool\n",
      "block4_conv1\n",
      "block4_conv2\n",
      "block4_conv3\n",
      "block4_pool\n",
      "block5_conv1\n",
      "block5_conv2\n",
      "block5_conv3\n",
      "block5_pool\n",
      "sequential_7\n"
     ]
    }
   ],
   "source": [
    "for layer in model.layers:\n",
    "    print(layer.name)"
   ]
  },
  {
   "cell_type": "code",
   "execution_count": 68,
   "id": "7a897af3",
   "metadata": {},
   "outputs": [
    {
     "name": "stdout",
     "output_type": "stream",
     "text": [
      "1/1 [==============================] - 0s 262ms/step\n"
     ]
    }
   ],
   "source": [
    "# import the necessary packages\n",
    "from tensorflow.keras.applications import ResNet50\n",
    "from tensorflow.keras.applications import VGG16\n",
    "from tensorflow.keras.preprocessing.image import img_to_array\n",
    "from tensorflow.keras.preprocessing.image import load_img\n",
    "from tensorflow.keras.applications import imagenet_utils\n",
    "from tensorflow.keras.models import Model, Sequential\n",
    "from tensorflow.keras.layers import Dense, Flatten\n",
    "from keras.optimizers import Adam, SGD\n",
    "\n",
    "import tensorflow as tf\n",
    "\n",
    "import numpy as np\n",
    "import cv2\n",
    "\n",
    "# load the original image from disk (in OpenCV format) and then\n",
    "# resize the image to its target dimensions\n",
    "img_path = \"/Users/jasur/desktop/FER13/test/happy/PublicTest_83630896.jpg\"\n",
    "orig = cv2.imread(img_path)\n",
    "resized = cv2.resize(orig, (224, 224))\n",
    "\n",
    "\n",
    "# load the input image from disk (in Keras/TensorFlow format) and\n",
    "# preprocess it\n",
    "image = load_img(img_path, target_size=(224, 224))\n",
    "image = img_to_array(image)\n",
    "image = np.expand_dims(image, axis=0)\n",
    "image = imagenet_utils.preprocess_input(image)\n",
    "\n",
    "# use the network to make predictions on the input imag and find\n",
    "# the class label index with the largest corresponding probability\n",
    "preds = model.predict(image)\n",
    "i = np.argmax(preds[0])"
   ]
  },
  {
   "cell_type": "code",
   "execution_count": 69,
   "id": "0f2bd19d",
   "metadata": {},
   "outputs": [
    {
     "data": {
      "text/plain": [
       "(array([[1.5994634e-11, 3.9282994e-04, 9.9951828e-01, 0.0000000e+00,\n",
       "         0.0000000e+00, 8.8864574e-05]], dtype=float32),\n",
       " 2)"
      ]
     },
     "execution_count": 69,
     "metadata": {},
     "output_type": "execute_result"
    }
   ],
   "source": [
    "preds, i"
   ]
  },
  {
   "cell_type": "code",
   "execution_count": 70,
   "id": "fa33b2c5",
   "metadata": {},
   "outputs": [
    {
     "name": "stdout",
     "output_type": "stream",
     "text": [
      "decoded:  (2, 'happy', 0.9995183)\n",
      "[INFO] happy: 99.95%\n"
     ]
    }
   ],
   "source": [
    "# decode the ImageNet predictions to obtain the human-readable label\n",
    "#decoded = imagenet_utils.decode_predictions(preds)\n",
    "#(imagenetID, label, prob) = decoded[0][0]\n",
    "decoded = i, label_map[i], preds[0][i]\n",
    "print(\"decoded: \", decoded)\n",
    "(imagenetID, label, prob) = decoded\n",
    "label = \"{}: {:.2f}%\".format(label, prob * 100)\n",
    "print(\"[INFO] {}\".format(label))"
   ]
  },
  {
   "cell_type": "code",
   "execution_count": 71,
   "id": "3474d302",
   "metadata": {},
   "outputs": [],
   "source": [
    "class GradCAM:\n",
    "    def __init__(self, model, classIdx, layerName=None):\n",
    "        # store the model, the class index used to measure the class\n",
    "        # activation map, and the layer to be used when visualizing\n",
    "        # the class activation map\n",
    "        self.model = model\n",
    "        self.classIdx = classIdx\n",
    "        self.layerName = layerName\n",
    "\n",
    "        # if the layer name is None, attempt to automatically find\n",
    "        # the target output layer\n",
    "        if self.layerName is None:\n",
    "            self.layerName = self.find_target_layer()\n",
    "\n",
    "    def find_target_layer(self):\n",
    "        # attempt to find the final convolutional layer in the network\n",
    "        # by looping over the layers of the network in reverse order\n",
    "        for layer in reversed(self.model.layers):\n",
    "            # check to see if the layer has a 4D output\n",
    "            if len(layer.output.shape) == 4:\n",
    "                return layer.name\n",
    "\n",
    "        # otherwise, we could not find a 4D layer so the GradCAM\n",
    "        # algorithm cannot be applied\n",
    "        raise ValueError(\"Could not find 4D layer. Cannot apply GradCAM.\")\n",
    "\n",
    "    def compute_heatmap(self, image, eps=1e-8):\n",
    "        # construct our gradient model by supplying (1) the inputs\n",
    "        # to our pre-trained model, (2) the output of the (presumably)\n",
    "        # final 4D layer in the network, and (3) the output of the\n",
    "        # softmax activations from the model\n",
    "        gradModel = Model(inputs=[self.model.inputs], outputs = \\\n",
    "                          [self.model.get_layer(self.layerName).output, self.model.output])\n",
    "        \n",
    "        # record operations for automatic differentiation\n",
    "        with tf.GradientTape() as tape:\n",
    "            # cast the image tensor to a float-32 data type, pass the\n",
    "            # image through the gradient model, and grab the loss\n",
    "            # associated with the specific class index\n",
    "            inputs = tf.cast(image, tf.float32)\n",
    "            (convOutputs, predictions) = gradModel(inputs)\n",
    "            loss = predictions[:, self.classIdx]\n",
    "\n",
    "        # use automatic differentiation to compute the gradients\n",
    "        grads = tape.gradient(loss, convOutputs)\n",
    "\n",
    "        # compute the guided gradients\n",
    "        castConvOutputs = tf.cast(convOutputs > 0, \"float32\")\n",
    "        castGrads = tf.cast(grads > 0, \"float32\")\n",
    "        guidedGrads = castConvOutputs * castGrads * grads\n",
    "\n",
    "        # the convolution and guided gradients have a batch dimension\n",
    "        # (which we don't need) so let's grab the volume itself and\n",
    "        # discard the batch\n",
    "        convOutputs = convOutputs[0]\n",
    "        guidedGrads = guidedGrads[0]\n",
    "\n",
    "        # compute the average of the gradient values, and using them\n",
    "        # as weights, compute the ponderation of the filters with\n",
    "        # respect to the weights\n",
    "        weights = tf.reduce_mean(guidedGrads, axis=(0, 1))\n",
    "        cam = tf.reduce_sum(tf.multiply(weights, convOutputs), axis=-1)\n",
    "\n",
    "        # grab the spatial dimensions of the input image and resize\n",
    "        # the output class activation map to match the input image\n",
    "        # dimensions\n",
    "        (w, h) = (image.shape[2], image.shape[1])\n",
    "        heatmap = cv2.resize(cam.numpy(), (w, h))\n",
    "        \n",
    "        # normalize the heatmap such that all values lie in the range\n",
    "        # [0, 1], scale the resulting values to the range [0, 255],\n",
    "        # and then convert to an unsigned 8-bit integer\n",
    "        numer = heatmap - np.min(heatmap)\n",
    "        denom = (heatmap.max() - heatmap.min()) + eps\n",
    "        heatmap = numer / denom\n",
    "        heatmap = (heatmap * 255).astype(\"uint8\")\n",
    "\n",
    "        # return the resulting heatmap to the calling function\n",
    "        return heatmap\n",
    "    \n",
    "    def overlay_heatmap(self, heatmap, image, alpha=0.5,\n",
    "        colormap=cv2.COLORMAP_JET):\n",
    "        # apply the supplied color map to the heatmap and then\n",
    "        # overlay the heatmap on the input image\n",
    "        heatmap = cv2.applyColorMap(heatmap, colormap)\n",
    "        output = cv2.addWeighted(image, alpha, heatmap, 1 - alpha, 0)\n",
    "\n",
    "        # return a 2-tuple of the color mapped heatmap and the output,\n",
    "        # overlaid image\n",
    "        return (heatmap, output)"
   ]
  },
  {
   "cell_type": "code",
   "execution_count": 89,
   "id": "34043cbe",
   "metadata": {},
   "outputs": [],
   "source": [
    "# initialize our gradient class activation map and build the heatmap\n",
    "cam = GradCAM(model, i, \"block5_conv3\")\n",
    "heatmap = cam.compute_heatmap(image)"
   ]
  },
  {
   "cell_type": "code",
   "execution_count": 90,
   "id": "146a8e7f",
   "metadata": {},
   "outputs": [],
   "source": [
    "# resize the resulting heatmap to the original input image dimensions\n",
    "# and then overlay heatmap on top of the image\n",
    "heatmap = cv2.resize(heatmap, (orig.shape[1], orig.shape[0]))\n",
    "(heatmap, output) = cam.overlay_heatmap(heatmap, orig, alpha=0.6)"
   ]
  },
  {
   "cell_type": "code",
   "execution_count": 74,
   "id": "ec36a8b4",
   "metadata": {},
   "outputs": [
    {
     "data": {
      "image/png": "[encoded data removed]",
      "text/plain": [
       "<Figure size 640x480 with 1 Axes>"
      ]
     },
     "metadata": {},
     "output_type": "display_data"
    }
   ],
   "source": [
    "plt.imshow(output)\n",
    "plt.show()"
   ]
  },
  {
   "cell_type": "code",
   "execution_count": 84,
   "id": "2ac6f160",
   "metadata": {},
   "outputs": [
    {
     "data": {
      "image/png": "[encoded data removed]",
      "text/plain": [
       "<Figure size 640x480 with 1 Axes>"
      ]
     },
     "metadata": {},
     "output_type": "display_data"
    }
   ],
   "source": [
    "img = Image.open(img_path).convert('RGB')\n",
    "img.resize((224, 224))\n",
    "plt.imshow(img)\n",
    "plt.show()"
   ]
  },
  {
   "cell_type": "code",
   "execution_count": 103,
   "id": "d26474ea",
   "metadata": {},
   "outputs": [
    {
     "data": {
      "image/png": "[encoded data removed]",
      "text/plain": [
       "<Figure size 900x300 with 2 Axes>"
      ]
     },
     "metadata": {},
     "output_type": "display_data"
    }
   ],
   "source": [
    "import matplotlib.pyplot as plt\n",
    "\n",
    "# Create a subplot with 1 row and 2 columns\n",
    "fig, axes = plt.subplots(1, 2, figsize=(9, 3))\n",
    "\n",
    "# Display the first image on the left subplot\n",
    "axes[0].imshow(orig)\n",
    "axes[0].set_title('Original Image')\n",
    "axes[0].text(0.5, -0.1, 'Actual Label: Happy', size=8, ha=\"center\", transform=axes[0].transAxes)\n",
    "\n",
    "# Display the second image on the right subplot\n",
    "axes[1].imshow(output)\n",
    "axes[1].set_title('Heat Map')\n",
    "axes[1].text(0.5, -0.1, 'Predicted Label: Happy', size=8, ha=\"center\", transform=axes[1].transAxes)\n",
    "axes[1].text(0.5, -0.15, 'Prediction Probability: ' + str(round(preds[0][i] * 100, 3)) + '%',\n",
    "              size=8, ha=\"center\", transform=axes[1].transAxes)\n",
    "\n",
    "# Hide the axis labels and ticks for a cleaner look\n",
    "for ax in axes:\n",
    "    ax.axis('off')\n",
    "\n",
    "# Adjust layout for better spacing\n",
    "plt.tight_layout()\n",
    "\n",
    "# Show the plot\n",
    "plt.show()"
   ]
  },
  {
   "cell_type": "code",
   "execution_count": 1,
   "id": "a694c3ea",
   "metadata": {},
   "outputs": [
    {
     "name": "stdout",
     "output_type": "stream",
     "text": [
      "Hello\n"
     ]
    }
   ],
   "source": [
    "print(\"Hello\")"
   ]
  },
  {
   "cell_type": "code",
   "execution_count": 120,
   "id": "71454e50",
   "metadata": {},
   "outputs": [
    {
     "name": "stdout",
     "output_type": "stream",
     "text": [
      "1/1 [==============================] - 0s 395ms/step\n",
      "decoded:  (2, 'happy', 0.9995183)\n",
      "[INFO] happy: 99.95%\n"
     ]
    }
   ],
   "source": [
    "preds = model.predict(image)\n",
    "i = np.argmax(preds[0])\n",
    "decoded = i, label_map[i], preds[0][i]\n",
    "print(\"decoded: \", decoded)\n",
    "(imagenetID, label, prob) = decoded\n",
    "label = \"{}: {:.2f}%\".format(label, prob * 100)\n",
    "print(\"[INFO] {}\".format(label))"
   ]
  },
  {
   "cell_type": "code",
   "execution_count": 110,
   "id": "df9b7fc6",
   "metadata": {},
   "outputs": [],
   "source": [
    "from keras.layers import Dropout\n",
    "\n",
    "model = Sequential()\n",
    "\n",
    "model.add(Conv2D(32, (3, 3), padding='same', input_shape=(224, 224, 3)))\n",
    "model.add(Conv2D(64, kernel_size=(3, 3), activation='relu', padding='same'))\n",
    "model.add(BatchNormalization())\n",
    "model.add(Activation('relu'))\n",
    "model.add(MaxPooling2D(pool_size=(2, 2)))\n",
    "model.add(SpatialDropout2D(0.2))\n",
    "\n",
    "model.add(Conv2D(128, (3, 3), padding='same', input_shape=(224, 224, 3)))\n",
    "model.add(Conv2D(64, kernel_size=(3, 3), activation='relu', padding='same'))\n",
    "model.add(BatchNormalization())\n",
    "model.add(Activation('relu'))\n",
    "model.add(MaxPooling2D(pool_size=(2, 2)))\n",
    "model.add(SpatialDropout2D(0.2))\n",
    "\n",
    "model.add(Flatten())\n",
    "\n",
    "model.add(Dense(256, activation='relu'))\n",
    "model.add(Dropout(0.35))\n",
    "model.add(Dense(6, activation='softmax'))\n",
    "\n",
    "model.compile(optimizer=Adam(learning_rate=0.0001), \n",
    "                  loss='categorical_crossentropy', \n",
    "                  metrics=['accuracy'])\n",
    "\n",
    "model.load_weights(\"/Users/jasur/desktop/CustomNet.h5\")"
   ]
  },
  {
   "cell_type": "code",
   "execution_count": 113,
   "id": "5b269149",
   "metadata": {},
   "outputs": [],
   "source": [
    "# initialize our gradient class activation map and build the heatmap\n",
    "cam = GradCAM(model, i, \"conv2d_11\")\n",
    "heatmap = cam.compute_heatmap(image)"
   ]
  },
  {
   "cell_type": "code",
   "execution_count": 114,
   "id": "bc114ef7",
   "metadata": {},
   "outputs": [],
   "source": [
    "heatmap = cv2.resize(heatmap, (orig.shape[1], orig.shape[0]))\n",
    "(heatmap, output) = cam.overlay_heatmap(heatmap, orig, alpha=0.6)"
   ]
  },
  {
   "cell_type": "code",
   "execution_count": 117,
   "id": "ca761c1b",
   "metadata": {},
   "outputs": [
    {
     "data": {
      "image/png": "[encoded data removed]",
      "text/plain": [
       "<Figure size 900x300 with 2 Axes>"
      ]
     },
     "metadata": {},
     "output_type": "display_data"
    }
   ],
   "source": [
    "import matplotlib.pyplot as plt\n",
    "\n",
    "# Create a subplot with 1 row and 2 columns\n",
    "fig, axes = plt.subplots(1, 2, figsize=(9, 3))\n",
    "\n",
    "# Display the first image on the left subplot\n",
    "axes[0].imshow(orig)\n",
    "axes[0].set_title('Original Image')\n",
    "axes[0].text(0.5, -0.1, 'Actual Label: Happy', size=8, ha=\"center\", transform=axes[0].transAxes)\n",
    "\n",
    "# Display the second image on the right subplot\n",
    "axes[1].imshow(output)\n",
    "axes[1].set_title('Heat Map')\n",
    "axes[1].text(0.5, -0.1, 'Predicted Label: ' + str(decoded[1]), size=8, ha=\"center\", transform=axes[1].transAxes)\n",
    "axes[1].text(0.5, -0.15, 'Prediction Probability: ' + str(round(preds[0][i] * 100, 3)) + '%',\n",
    "              size=8, ha=\"center\", transform=axes[1].transAxes)\n",
    "\n",
    "# Hide the axis labels and ticks for a cleaner look\n",
    "for ax in axes:\n",
    "    ax.axis('off')\n",
    "\n",
    "# Adjust layout for better spacing\n",
    "plt.tight_layout()\n",
    "\n",
    "# Show the plot\n",
    "plt.show()"
   ]
  },
  {
   "cell_type": "code",
   "execution_count": 158,
   "id": "4bff0e3b",
   "metadata": {},
   "outputs": [],
   "source": [
    "from keras.applications.vgg16 import (\n",
    "    VGG16, preprocess_input, decode_predictions)\n",
    "from keras.preprocessing import image\n",
    "from keras.layers import Lambda\n",
    "from keras.models import Sequential\n",
    "from tensorflow.python.framework import ops\n",
    "import keras.backend as K\n",
    "import tensorflow as tf\n",
    "import numpy as np\n",
    "import keras\n",
    "import sys\n",
    "import cv2\n",
    "\n",
    "def target_category_loss(x, category_index, nb_classes):\n",
    "    return tf.multiply(x, K.one_hot([category_index], nb_classes))\n",
    "\n",
    "def target_category_loss_output_shape(input_shape):\n",
    "    return input_shape\n",
    "\n",
    "def normalize(x):\n",
    "    # utility function to normalize a tensor by its L2 norm\n",
    "    return x / (K.sqrt(K.mean(K.square(x))) + 1e-5)\n",
    "\n",
    "def load_image(path):\n",
    "    img_path = path\n",
    "    img = image.load_img(img_path, target_size=(224, 224))\n",
    "    x = image.img_to_array(img)\n",
    "    x = np.expand_dims(x, axis=0)\n",
    "    x = preprocess_input(x)\n",
    "    return x\n",
    "\n",
    "def register_gradient():\n",
    "    if \"GuidedBackProp\" not in ops._gradient_registry._registry:\n",
    "        @ops.RegisterGradient(\"GuidedBackProp\")\n",
    "        def _GuidedBackProp(op, grad):\n",
    "            dtype = op.inputs[0].dtype\n",
    "            return grad * tf.cast(grad > 0., dtype) * \\\n",
    "                tf.cast(op.inputs[0] > 0., dtype)"
   ]
  },
  {
   "cell_type": "code",
   "execution_count": 164,
   "id": "c814dfd8",
   "metadata": {},
   "outputs": [],
   "source": [
    "def compile_saliency_function(model, activation_layer=\"sequential_7\"):\n",
    "    input_img = model.input\n",
    "    layer_dict = dict([(layer.name, layer) for layer in model.layers[1:]])\n",
    "    layer_output = layer_dict[activation_layer].output\n",
    "    max_output = K.max(layer_output, axis=3)\n",
    "    saliency = K.gradients(K.sum(max_output), input_img)[0]\n",
    "    return K.function([input_img, K.learning_phase()], [saliency])\n",
    "\n",
    "def modify_backprop(model, name):\n",
    "    g = tf.compat.v1.get_default_graph()\n",
    "    with g.gradient_override_map({'Relu': name}):\n",
    "\n",
    "        # get layers that have an activation\n",
    "        layer_dict = [layer for layer in model.layers[1:]\n",
    "                      if hasattr(layer, 'activation')]\n",
    "\n",
    "        # replace relu activation\n",
    "        for layer in layer_dict:\n",
    "            if layer.activation == keras.activations.relu:\n",
    "                layer.activation = tf.nn.relu\n",
    "\n",
    "        # re-instanciate a new model\n",
    "        new_model = VGG16(weights='imagenet')\n",
    "    return new_model"
   ]
  },
  {
   "cell_type": "code",
   "execution_count": 165,
   "id": "1e85304a",
   "metadata": {},
   "outputs": [],
   "source": [
    "def deprocess_image(x):\n",
    "    '''\n",
    "    Same normalization as in:\n",
    "    https://github.com/fchollet/keras/blob/master/examples/conv_filter_visualization.py\n",
    "    '''\n",
    "    if np.ndim(x) > 3:\n",
    "        x = np.squeeze(x)\n",
    "    # normalize tensor: center on 0., ensure std is 0.1\n",
    "    x -= x.mean()\n",
    "    x /= (x.std() + 1e-5)\n",
    "    x *= 0.1\n",
    "\n",
    "    # clip to [0, 1]\n",
    "    x += 0.5\n",
    "    x = np.clip(x, 0, 1)\n",
    "\n",
    "    # convert to RGB array\n",
    "    x *= 255\n",
    "    if K.image_dim_ordering() == 'th':\n",
    "        x = x.transpose((1, 2, 0))\n",
    "    x = np.clip(x, 0, 255).astype('uint8')\n",
    "    return x"
   ]
  },
  {
   "cell_type": "code",
   "execution_count": 166,
   "id": "ae9c5f27",
   "metadata": {},
   "outputs": [],
   "source": [
    "def grad_cam(input_model, image, category_index, layer_name):\n",
    "    model = Sequential()\n",
    "    model.add(input_model)\n",
    "\n",
    "    nb_classes = 1000\n",
    "    target_layer = lambda x: target_category_loss(x, category_index, nb_classes)\n",
    "    model.add(Lambda(target_layer,\n",
    "                     output_shape = target_category_loss_output_shape))\n",
    "\n",
    "    loss = K.sum(model.layers[-1].output)\n",
    "    conv_output =  [l for l in model.layers[0].layers if l.name is layer_name][0].output\n",
    "    grads = normalize(K.gradients(loss, conv_output)[0])\n",
    "    gradient_function = K.function([model.layers[0].input], [conv_output, grads])\n",
    "\n",
    "    output, grads_val = gradient_function([image])\n",
    "    output, grads_val = output[0, :], grads_val[0, :, :, :]\n",
    "\n",
    "    weights = np.mean(grads_val, axis = (0, 1))\n",
    "    cam = np.ones(output.shape[0 : 2], dtype = np.float32)\n",
    "\n",
    "    for i, w in enumerate(weights):\n",
    "        cam += w * output[:, :, i]\n",
    "\n",
    "    cam = cv2.resize(cam, (224, 224))\n",
    "    cam = np.maximum(cam, 0)\n",
    "    heatmap = cam / np.max(cam)\n",
    "\n",
    "    #Return to BGR [0..255] from the preprocessed image\n",
    "    image = image[0, :]\n",
    "    image -= np.min(image)\n",
    "    image = np.minimum(image, 255)\n",
    "\n",
    "    cam = cv2.applyColorMap(np.uint8(255*heatmap), cv2.COLORMAP_JET)\n",
    "    cam = np.float32(cam) + np.float32(image)\n",
    "    cam = 255 * cam / np.max(cam)\n",
    "    return np.uint8(cam), heatmap"
   ]
  },
  {
   "cell_type": "code",
   "execution_count": 126,
   "id": "c7b4cb44",
   "metadata": {},
   "outputs": [
    {
     "name": "stdout",
     "output_type": "stream",
     "text": [
      "WARNING:tensorflow:5 out of the last 7 calls to <function Model.make_predict_function.<locals>.predict_function at 0x143ae3ca0> triggered tf.function retracing. Tracing is expensive and the excessive number of tracings could be due to (1) creating @tf.function repeatedly in a loop, (2) passing tensors with different shapes, (3) passing Python objects instead of tensors. For (1), please define your @tf.function outside of the loop. For (2), @tf.function has reduce_retracing=True option that can avoid unnecessary retracing. For (3), please refer to https://www.tensorflow.org/guide/function#controlling_retracing and https://www.tensorflow.org/api_docs/python/tf/function for  more details.\n",
      "1/1 [==============================] - 0s 339ms/step\n",
      "Downloading data from https://storage.googleapis.com/download.tensorflow.org/data/imagenet_class_index.json\n",
      "35363/35363 [==============================] - 0s 5us/step\n",
      "Predicted class:\n",
      "window_shade (n04590129) with probability 0.14\n"
     ]
    },
    {
     "ename": "RuntimeError",
     "evalue": "tf.gradients is not supported when eager execution is enabled. Use tf.GradientTape instead.",
     "output_type": "error",
     "traceback": [
      "\u001b[0;31m---------------------------------------------------------------------------\u001b[0m",
      "\u001b[0;31mRuntimeError\u001b[0m                              Traceback (most recent call last)",
      "\u001b[1;32m/Users/jasur/Desktop/Grad-Cam.ipynb Cell 22\u001b[0m line \u001b[0;36m1\n\u001b[1;32m      <a href='vscode-notebook-cell:/Users/jasur/Desktop/Grad-Cam.ipynb#X31sZmlsZQ%3D%3D?line=7'>8</a>\u001b[0m \u001b[39mprint\u001b[39m(\u001b[39m'\u001b[39m\u001b[39m%s\u001b[39;00m\u001b[39m (\u001b[39m\u001b[39m%s\u001b[39;00m\u001b[39m) with probability \u001b[39m\u001b[39m%.2f\u001b[39;00m\u001b[39m'\u001b[39m \u001b[39m%\u001b[39m (top_1[\u001b[39m1\u001b[39m], top_1[\u001b[39m0\u001b[39m], top_1[\u001b[39m2\u001b[39m]))\n\u001b[1;32m     <a href='vscode-notebook-cell:/Users/jasur/Desktop/Grad-Cam.ipynb#X31sZmlsZQ%3D%3D?line=9'>10</a>\u001b[0m predicted_class \u001b[39m=\u001b[39m np\u001b[39m.\u001b[39margmax(predictions)\n\u001b[0;32m---> <a href='vscode-notebook-cell:/Users/jasur/Desktop/Grad-Cam.ipynb#X31sZmlsZQ%3D%3D?line=10'>11</a>\u001b[0m cam, heatmap \u001b[39m=\u001b[39m grad_cam(model, preprocessed_input, predicted_class, \u001b[39m\"\u001b[39;49m\u001b[39mblock5_conv3\u001b[39;49m\u001b[39m\"\u001b[39;49m)\n\u001b[1;32m     <a href='vscode-notebook-cell:/Users/jasur/Desktop/Grad-Cam.ipynb#X31sZmlsZQ%3D%3D?line=11'>12</a>\u001b[0m cv2\u001b[39m.\u001b[39mimwrite(\u001b[39m\"\u001b[39m\u001b[39mgradcam.jpg\u001b[39m\u001b[39m\"\u001b[39m, cam)\n\u001b[1;32m     <a href='vscode-notebook-cell:/Users/jasur/Desktop/Grad-Cam.ipynb#X31sZmlsZQ%3D%3D?line=13'>14</a>\u001b[0m register_gradient()\n",
      "\u001b[1;32m/Users/jasur/Desktop/Grad-Cam.ipynb Cell 22\u001b[0m line \u001b[0;36m1\n\u001b[1;32m     <a href='vscode-notebook-cell:/Users/jasur/Desktop/Grad-Cam.ipynb#X31sZmlsZQ%3D%3D?line=9'>10</a>\u001b[0m loss \u001b[39m=\u001b[39m K\u001b[39m.\u001b[39msum(model\u001b[39m.\u001b[39mlayers[\u001b[39m-\u001b[39m\u001b[39m1\u001b[39m]\u001b[39m.\u001b[39moutput)\n\u001b[1;32m     <a href='vscode-notebook-cell:/Users/jasur/Desktop/Grad-Cam.ipynb#X31sZmlsZQ%3D%3D?line=10'>11</a>\u001b[0m conv_output \u001b[39m=\u001b[39m  [l \u001b[39mfor\u001b[39;00m l \u001b[39min\u001b[39;00m model\u001b[39m.\u001b[39mlayers[\u001b[39m0\u001b[39m]\u001b[39m.\u001b[39mlayers \u001b[39mif\u001b[39;00m l\u001b[39m.\u001b[39mname \u001b[39mis\u001b[39;00m layer_name][\u001b[39m0\u001b[39m]\u001b[39m.\u001b[39moutput\n\u001b[0;32m---> <a href='vscode-notebook-cell:/Users/jasur/Desktop/Grad-Cam.ipynb#X31sZmlsZQ%3D%3D?line=11'>12</a>\u001b[0m grads \u001b[39m=\u001b[39m normalize(K\u001b[39m.\u001b[39;49mgradients(loss, conv_output)[\u001b[39m0\u001b[39m])\n\u001b[1;32m     <a href='vscode-notebook-cell:/Users/jasur/Desktop/Grad-Cam.ipynb#X31sZmlsZQ%3D%3D?line=12'>13</a>\u001b[0m gradient_function \u001b[39m=\u001b[39m K\u001b[39m.\u001b[39mfunction([model\u001b[39m.\u001b[39mlayers[\u001b[39m0\u001b[39m]\u001b[39m.\u001b[39minput], [conv_output, grads])\n\u001b[1;32m     <a href='vscode-notebook-cell:/Users/jasur/Desktop/Grad-Cam.ipynb#X31sZmlsZQ%3D%3D?line=14'>15</a>\u001b[0m output, grads_val \u001b[39m=\u001b[39m gradient_function([image])\n",
      "File \u001b[0;32m~/Library/Python/3.9/lib/python/site-packages/keras/src/backend.py:4693\u001b[0m, in \u001b[0;36mgradients\u001b[0;34m(loss, variables)\u001b[0m\n\u001b[1;32m   4681\u001b[0m \u001b[39m@keras_export\u001b[39m(\u001b[39m\"\u001b[39m\u001b[39mkeras.backend.gradients\u001b[39m\u001b[39m\"\u001b[39m)\n\u001b[1;32m   4682\u001b[0m \u001b[39m@doc_controls\u001b[39m\u001b[39m.\u001b[39mdo_not_generate_docs\n\u001b[1;32m   4683\u001b[0m \u001b[39mdef\u001b[39;00m \u001b[39mgradients\u001b[39m(loss, variables):\n\u001b[1;32m   4684\u001b[0m \u001b[39m    \u001b[39m\u001b[39m\"\"\"Returns the gradients of `loss` w.r.t. `variables`.\u001b[39;00m\n\u001b[1;32m   4685\u001b[0m \n\u001b[1;32m   4686\u001b[0m \u001b[39m    Args:\u001b[39;00m\n\u001b[0;32m   (...)\u001b[0m\n\u001b[1;32m   4691\u001b[0m \u001b[39m        A gradients tensor.\u001b[39;00m\n\u001b[1;32m   4692\u001b[0m \u001b[39m    \"\"\"\u001b[39;00m\n\u001b[0;32m-> 4693\u001b[0m     \u001b[39mreturn\u001b[39;00m tf\u001b[39m.\u001b[39;49mcompat\u001b[39m.\u001b[39;49mv1\u001b[39m.\u001b[39;49mgradients(\n\u001b[1;32m   4694\u001b[0m         loss, variables, colocate_gradients_with_ops\u001b[39m=\u001b[39;49m\u001b[39mTrue\u001b[39;49;00m\n\u001b[1;32m   4695\u001b[0m     )\n",
      "File \u001b[0;32m~/Library/Python/3.9/lib/python/site-packages/tensorflow/python/ops/gradients_impl.py:177\u001b[0m, in \u001b[0;36mgradients\u001b[0;34m(ys, xs, grad_ys, name, colocate_gradients_with_ops, gate_gradients, aggregation_method, stop_gradients, unconnected_gradients)\u001b[0m\n\u001b[1;32m    172\u001b[0m \u001b[39m# Creating the gradient graph for control flow mutates Operations.\u001b[39;00m\n\u001b[1;32m    173\u001b[0m \u001b[39m# _mutation_lock ensures a Session.run call cannot occur between creating and\u001b[39;00m\n\u001b[1;32m    174\u001b[0m \u001b[39m# mutating new ops.\u001b[39;00m\n\u001b[1;32m    175\u001b[0m \u001b[39m# pylint: disable=protected-access\u001b[39;00m\n\u001b[1;32m    176\u001b[0m \u001b[39mwith\u001b[39;00m ops\u001b[39m.\u001b[39mget_default_graph()\u001b[39m.\u001b[39m_mutation_lock():\n\u001b[0;32m--> 177\u001b[0m   \u001b[39mreturn\u001b[39;00m gradients_util\u001b[39m.\u001b[39;49m_GradientsHelper(\n\u001b[1;32m    178\u001b[0m       ys, xs, grad_ys, name, colocate_gradients_with_ops,\n\u001b[1;32m    179\u001b[0m       gate_gradients, aggregation_method, stop_gradients,\n\u001b[1;32m    180\u001b[0m       unconnected_gradients)\n",
      "File \u001b[0;32m~/Library/Python/3.9/lib/python/site-packages/tensorflow/python/ops/gradients_util.py:518\u001b[0m, in \u001b[0;36m_GradientsHelper\u001b[0;34m(ys, xs, grad_ys, name, colocate_gradients_with_ops, gate_gradients, aggregation_method, stop_gradients, unconnected_gradients, src_graph)\u001b[0m\n\u001b[1;32m    516\u001b[0m \u001b[39m\u001b[39m\u001b[39m\"\"\"Implementation of gradients().\"\"\"\u001b[39;00m\n\u001b[1;32m    517\u001b[0m \u001b[39mif\u001b[39;00m context\u001b[39m.\u001b[39mexecuting_eagerly():\n\u001b[0;32m--> 518\u001b[0m   \u001b[39mraise\u001b[39;00m \u001b[39mRuntimeError\u001b[39;00m(\u001b[39m\"\u001b[39m\u001b[39mtf.gradients is not supported when eager execution \u001b[39m\u001b[39m\"\u001b[39m\n\u001b[1;32m    519\u001b[0m                      \u001b[39m\"\u001b[39m\u001b[39mis enabled. Use tf.GradientTape instead.\u001b[39m\u001b[39m\"\u001b[39m)\n\u001b[1;32m    520\u001b[0m ys \u001b[39m=\u001b[39m variable_utils\u001b[39m.\u001b[39mconvert_variables_to_tensors(_AsList(ys))\n\u001b[1;32m    521\u001b[0m xs \u001b[39m=\u001b[39m [\n\u001b[1;32m    522\u001b[0m     x\u001b[39m.\u001b[39mhandle \u001b[39mif\u001b[39;00m resource_variable_ops\u001b[39m.\u001b[39mis_resource_variable(x) \u001b[39melse\u001b[39;00m x\n\u001b[1;32m    523\u001b[0m     \u001b[39mfor\u001b[39;00m x \u001b[39min\u001b[39;00m _AsList(xs)\n\u001b[1;32m    524\u001b[0m ]\n",
      "\u001b[0;31mRuntimeError\u001b[0m: tf.gradients is not supported when eager execution is enabled. Use tf.GradientTape instead."
     ]
    }
   ],
   "source": [
    "preprocessed_input = load_image(img_path)\n",
    "\n",
    "model = VGG16(weights='imagenet')\n",
    "\n",
    "predictions = model.predict(preprocessed_input)\n",
    "top_1 = decode_predictions(predictions)[0][0]\n",
    "print('Predicted class:')\n",
    "print('%s (%s) with probability %.2f' % (top_1[1], top_1[0], top_1[2]))\n",
    "\n",
    "predicted_class = np.argmax(predictions)\n",
    "cam, heatmap = grad_cam(model, preprocessed_input, predicted_class, \"block5_conv3\")\n",
    "cv2.imwrite(\"gradcam.jpg\", cam)\n",
    "\n",
    "register_gradient()\n",
    "guided_model = modify_backprop(model, 'GuidedBackProp')\n",
    "saliency_fn = compile_saliency_function(guided_model)\n",
    "saliency = saliency_fn([preprocessed_input, 0])\n",
    "gradcam = saliency[0] * heatmap[..., np.newaxis]\n",
    "cv2.imwrite(\"guided_gradcam.jpg\", deprocess_image(gradcam))"
   ]
  },
  {
   "cell_type": "code",
   "execution_count": 167,
   "id": "26eb642f",
   "metadata": {},
   "outputs": [
    {
     "ename": "KeyError",
     "evalue": "'sequential_7'",
     "output_type": "error",
     "traceback": [
      "\u001b[0;31m---------------------------------------------------------------------------\u001b[0m",
      "\u001b[0;31mKeyError\u001b[0m                                  Traceback (most recent call last)",
      "\u001b[1;32m/Users/jasur/Desktop/Grad-Cam.ipynb Cell 24\u001b[0m line \u001b[0;36m3\n\u001b[1;32m      <a href='vscode-notebook-cell:/Users/jasur/Desktop/Grad-Cam.ipynb#X65sZmlsZQ%3D%3D?line=0'>1</a>\u001b[0m register_gradient()\n\u001b[1;32m      <a href='vscode-notebook-cell:/Users/jasur/Desktop/Grad-Cam.ipynb#X65sZmlsZQ%3D%3D?line=1'>2</a>\u001b[0m guided_model \u001b[39m=\u001b[39m modify_backprop(model, \u001b[39m'\u001b[39m\u001b[39mGuidedBackProp\u001b[39m\u001b[39m'\u001b[39m)\n\u001b[0;32m----> <a href='vscode-notebook-cell:/Users/jasur/Desktop/Grad-Cam.ipynb#X65sZmlsZQ%3D%3D?line=2'>3</a>\u001b[0m saliency_fn \u001b[39m=\u001b[39m compile_saliency_function(guided_model)\n\u001b[1;32m      <a href='vscode-notebook-cell:/Users/jasur/Desktop/Grad-Cam.ipynb#X65sZmlsZQ%3D%3D?line=3'>4</a>\u001b[0m saliency \u001b[39m=\u001b[39m saliency_fn([preprocessed_input, \u001b[39m0\u001b[39m])\n\u001b[1;32m      <a href='vscode-notebook-cell:/Users/jasur/Desktop/Grad-Cam.ipynb#X65sZmlsZQ%3D%3D?line=4'>5</a>\u001b[0m gradcam \u001b[39m=\u001b[39m saliency[\u001b[39m0\u001b[39m] \u001b[39m*\u001b[39m heatmap[\u001b[39m.\u001b[39m\u001b[39m.\u001b[39m\u001b[39m.\u001b[39m, np\u001b[39m.\u001b[39mnewaxis]\n",
      "\u001b[1;32m/Users/jasur/Desktop/Grad-Cam.ipynb Cell 24\u001b[0m line \u001b[0;36m4\n\u001b[1;32m      <a href='vscode-notebook-cell:/Users/jasur/Desktop/Grad-Cam.ipynb#X65sZmlsZQ%3D%3D?line=1'>2</a>\u001b[0m input_img \u001b[39m=\u001b[39m model\u001b[39m.\u001b[39minput\n\u001b[1;32m      <a href='vscode-notebook-cell:/Users/jasur/Desktop/Grad-Cam.ipynb#X65sZmlsZQ%3D%3D?line=2'>3</a>\u001b[0m layer_dict \u001b[39m=\u001b[39m \u001b[39mdict\u001b[39m([(layer\u001b[39m.\u001b[39mname, layer) \u001b[39mfor\u001b[39;00m layer \u001b[39min\u001b[39;00m model\u001b[39m.\u001b[39mlayers[\u001b[39m1\u001b[39m:]])\n\u001b[0;32m----> <a href='vscode-notebook-cell:/Users/jasur/Desktop/Grad-Cam.ipynb#X65sZmlsZQ%3D%3D?line=3'>4</a>\u001b[0m layer_output \u001b[39m=\u001b[39m layer_dict[activation_layer]\u001b[39m.\u001b[39moutput\n\u001b[1;32m      <a href='vscode-notebook-cell:/Users/jasur/Desktop/Grad-Cam.ipynb#X65sZmlsZQ%3D%3D?line=4'>5</a>\u001b[0m max_output \u001b[39m=\u001b[39m K\u001b[39m.\u001b[39mmax(layer_output, axis\u001b[39m=\u001b[39m\u001b[39m3\u001b[39m)\n\u001b[1;32m      <a href='vscode-notebook-cell:/Users/jasur/Desktop/Grad-Cam.ipynb#X65sZmlsZQ%3D%3D?line=5'>6</a>\u001b[0m saliency \u001b[39m=\u001b[39m K\u001b[39m.\u001b[39mgradients(K\u001b[39m.\u001b[39msum(max_output), input_img)[\u001b[39m0\u001b[39m]\n",
      "\u001b[0;31mKeyError\u001b[0m: 'sequential_7'"
     ]
    }
   ],
   "source": [
    "register_gradient()\n",
    "guided_model = modify_backprop(model, 'GuidedBackProp')\n",
    "saliency_fn = compile_saliency_function(guided_model)\n",
    "saliency = saliency_fn([preprocessed_input, 0])\n",
    "gradcam = saliency[0] * heatmap[..., np.newaxis]\n",
    "cv2.imwrite(\"guided_gradcam.jpg\", deprocess_image(gradcam))"
   ]
  },
  {
   "cell_type": "code",
   "execution_count": 168,
   "id": "0232d6f8",
   "metadata": {},
   "outputs": [
    {
     "name": "stdout",
     "output_type": "stream",
     "text": [
      "input_8\n",
      "block1_conv1\n",
      "block1_conv2\n",
      "block1_pool\n",
      "block2_conv1\n",
      "block2_conv2\n",
      "block2_pool\n",
      "block3_conv1\n",
      "block3_conv2\n",
      "block3_conv3\n",
      "block3_pool\n",
      "block4_conv1\n",
      "block4_conv2\n",
      "block4_conv3\n",
      "block4_pool\n",
      "block5_conv1\n",
      "block5_conv2\n",
      "block5_conv3\n",
      "block5_pool\n",
      "sequential_7\n"
     ]
    }
   ],
   "source": [
    "for layer in model.layers:\n",
    "    print(layer.name)"
   ]
  },
  {
   "cell_type": "code",
   "execution_count": null,
   "id": "2451e519",
   "metadata": {},
   "outputs": [],
   "source": []
  }
 ],
 "metadata": {
  "kernelspec": {
   "display_name": "Python 3 (ipykernel)",
   "language": "python",
   "name": "python3"
  },
  "language_info": {
   "codemirror_mode": {
    "name": "ipython",
    "version": 3
   },
   "file_extension": ".py",
   "mimetype": "text/x-python",
   "name": "python",
   "nbconvert_exporter": "python",
   "pygments_lexer": "ipython3",
   "version": "3.9.6"
  }
 },
 "nbformat": 4,
 "nbformat_minor": 5
}
