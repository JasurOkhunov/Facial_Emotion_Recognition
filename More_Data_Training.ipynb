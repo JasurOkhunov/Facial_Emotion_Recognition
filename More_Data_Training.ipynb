{
 "cells": [
  {
   "cell_type": "code",
   "execution_count": 1,
   "metadata": {},
   "outputs": [],
   "source": [
    "# RERUN AT HOME\n",
    "import glob"
   ]
  },
  {
   "cell_type": "code",
   "execution_count": 2,
   "metadata": {},
   "outputs": [],
   "source": [
    "# RERUN AT HOME\n",
    "path = \"/Users/jasur/desktop/FER13/\" # use your path, all images"
   ]
  },
  {
   "cell_type": "code",
   "execution_count": 3,
   "metadata": {},
   "outputs": [],
   "source": [
    "# RERUN AT HOME\n",
    "angry_images = glob.glob(path + 'train/angry/*', recursive=True)\n",
    "fear_images = glob.glob(path + 'train/fear/*', recursive=True)\n",
    "happy_images = glob.glob(path + 'train/happy/*', recursive=True)\n",
    "neutral_images = glob.glob(path + 'train/neutral/*', recursive=True)\n",
    "surprise_images = glob.glob(path + 'train/surprise/*', recursive=True)\n",
    "sad_images = glob.glob(path + 'train/sad/*', recursive=True)"
   ]
  },
  {
   "cell_type": "code",
   "execution_count": 4,
   "metadata": {},
   "outputs": [
    {
     "name": "stdout",
     "output_type": "stream",
     "text": [
      "Number of images:  23765\n"
     ]
    }
   ],
   "source": [
    "train_images = angry_images + fear_images + happy_images + neutral_images + surprise_images + sad_images\n",
    "print(\"Number of images: \", len(train_images))"
   ]
  },
  {
   "cell_type": "code",
   "execution_count": 5,
   "metadata": {},
   "outputs": [],
   "source": [
    "# RERUN AT HOME\n",
    "angry_images = glob.glob(path + 'test/angry/*', recursive=True)\n",
    "fear_images = glob.glob(path + 'test/fear/*', recursive=True)\n",
    "happy_images = glob.glob(path + 'test/happy/*', recursive=True)\n",
    "neutral_images = glob.glob(path + 'test/neutral/*', recursive=True)\n",
    "surprise_images = glob.glob(path + 'test/surprise/*', recursive=True)\n",
    "sad_images = glob.glob(path + 'test/sad/*', recursive=True)"
   ]
  },
  {
   "cell_type": "code",
   "execution_count": 6,
   "metadata": {},
   "outputs": [
    {
     "name": "stdout",
     "output_type": "stream",
     "text": [
      "Number of images:  5931\n"
     ]
    }
   ],
   "source": [
    "test_images = angry_images + fear_images + happy_images + neutral_images + surprise_images + sad_images\n",
    "print(\"Number of images: \", len(test_images))"
   ]
  },
  {
   "cell_type": "code",
   "execution_count": 7,
   "metadata": {},
   "outputs": [
    {
     "name": "stdout",
     "output_type": "stream",
     "text": [
      "Number of train images:  19012\n",
      "Number of val images:  3803\n",
      "Number of test images:  5931\n"
     ]
    }
   ],
   "source": [
    "import numpy as np\n",
    "\n",
    "np.random.shuffle(train_images)\n",
    "np.random.shuffle(test_images)\n",
    "train_images = train_images[:int(len(train_images)*0.8)]\n",
    "val_images = train_images[int(len(train_images)*0.8):]\n",
    "print(\"Number of train images: \", len(train_images))\n",
    "print(\"Number of val images: \", len(val_images))\n",
    "print(\"Number of test images: \", len(test_images))"
   ]
  },
  {
   "cell_type": "code",
   "execution_count": 8,
   "metadata": {},
   "outputs": [
    {
     "name": "stderr",
     "output_type": "stream",
     "text": [
      "/Users/jasur/Library/Python/3.9/lib/python/site-packages/sklearn/preprocessing/_encoders.py:975: FutureWarning: `sparse` was renamed to `sparse_output` in version 1.2 and will be removed in 1.4. `sparse_output` is ignored unless you leave `sparse` to its default value.\n",
      "  warnings.warn(\n",
      "/Users/jasur/Library/Python/3.9/lib/python/site-packages/sklearn/preprocessing/_encoders.py:975: FutureWarning: `sparse` was renamed to `sparse_output` in version 1.2 and will be removed in 1.4. `sparse_output` is ignored unless you leave `sparse` to its default value.\n",
      "  warnings.warn(\n",
      "/Users/jasur/Library/Python/3.9/lib/python/site-packages/sklearn/preprocessing/_encoders.py:975: FutureWarning: `sparse` was renamed to `sparse_output` in version 1.2 and will be removed in 1.4. `sparse_output` is ignored unless you leave `sparse` to its default value.\n",
      "  warnings.warn(\n"
     ]
    }
   ],
   "source": [
    "from PIL import Image\n",
    "import os\n",
    "import numpy as np\n",
    "import pickle\n",
    "import tensorflow as tf\n",
    "from sklearn.preprocessing import LabelEncoder, OneHotEncoder\n",
    "\n",
    "def preprocess(image_paths, cat, train = False,\n",
    "               label_encoder = None, target_size = (224, 224)):\n",
    "    images, labels = [], []\n",
    "\n",
    "    for path in image_paths:\n",
    "        img = Image.open(path).convert('RGB')\n",
    "        img = img.resize(target_size)\n",
    "        img_array = np.array(img) / 255.0  \n",
    "        images.append(img_array)\n",
    "\n",
    "    for path in image_paths:\n",
    "        label = os.path.basename(os.path.dirname(path))\n",
    "        labels.append(label)\n",
    "    if train:\n",
    "        label_encoder = LabelEncoder()\n",
    "        encoded_labels = label_encoder.fit_transform(labels)\n",
    "    else:\n",
    "        encoded_labels = label_encoder.transform(labels)\n",
    "\n",
    "    onehot_encoder = OneHotEncoder(sparse=False)\n",
    "    encoded_labels = encoded_labels.reshape(len(encoded_labels), 1)\n",
    "    onehot_labels = onehot_encoder.fit_transform(encoded_labels)\n",
    "\n",
    "    images = np.array([img.reshape(target_size[0], target_size[1], 3) for img in images])\n",
    "    labels = np.array(onehot_labels)\n",
    "\n",
    "    dataset = tf.data.Dataset.from_tensor_slices((images, labels))\n",
    "\n",
    "    batch_size = 32\n",
    "    shuffle_buffer_size = len(images) \n",
    "\n",
    "    dataset = dataset.shuffle(buffer_size=shuffle_buffer_size)\n",
    "    dataset = dataset.batch(batch_size)\n",
    "\n",
    "    save_path = \"/Users/jasur/desktop/FER13/Data_Even_More_.np_arrays/\"\n",
    "    os.makedirs(save_path, exist_ok=True)\n",
    "\n",
    "    np.save(os.path.join(save_path, 'X_' + cat + '.npy'), images)\n",
    "    np.save(os.path.join(save_path, 'y_' + cat + '.npy'), labels)\n",
    "\n",
    "    return dataset, label_encoder\n",
    "\n",
    "\n",
    "train_dataset, label_encoder = preprocess(train_images, 'train', train=True)\n",
    "val_dataset, _ = preprocess(val_images, 'val', label_encoder=label_encoder)\n",
    "test_dataset, _ = preprocess(test_images, 'test', label_encoder=label_encoder)"
   ]
  },
  {
   "cell_type": "code",
   "execution_count": 5,
   "metadata": {},
   "outputs": [],
   "source": [
    "from PIL import Image\n",
    "import os\n",
    "import numpy as np\n",
    "import tensorflow as tf\n",
    "from tensorflow import keras\n",
    "\n",
    "save_path = \"/Users/jasur/desktop/FER13/Data_Even_More_.np_arrays/\"\n",
    "\n",
    "images = np.load(os.path.join(save_path, 'X_train.npy'))\n",
    "labels = np.load(os.path.join(save_path, 'y_train.npy'))\n",
    "train_dataset = tf.data.Dataset.from_tensor_slices((images, labels))\n",
    "\n",
    "batch_size = 32\n",
    "shuffle_buffer_size = len(images) \n",
    "\n",
    "train_dataset = train_dataset.shuffle(buffer_size=shuffle_buffer_size)\n",
    "train_dataset = train_dataset.batch(batch_size)"
   ]
  },
  {
   "cell_type": "code",
   "execution_count": 6,
   "metadata": {},
   "outputs": [],
   "source": [
    "images = np.load(os.path.join(save_path, 'X_val.npy'))\n",
    "labels = np.load(os.path.join(save_path, 'y_val.npy'))\n",
    "val_dataset = tf.data.Dataset.from_tensor_slices((images, labels))\n",
    "\n",
    "shuffle_buffer_size = len(images) \n",
    "\n",
    "val_dataset = val_dataset.shuffle(buffer_size=shuffle_buffer_size)\n",
    "val_dataset = val_dataset.batch(batch_size)"
   ]
  },
  {
   "cell_type": "code",
   "execution_count": 7,
   "metadata": {},
   "outputs": [],
   "source": [
    "images = np.load(os.path.join(save_path, 'X_test.npy'))\n",
    "labels = np.load(os.path.join(save_path, 'y_test.npy'))\n",
    "test_dataset = tf.data.Dataset.from_tensor_slices((images, labels))\n",
    "\n",
    "shuffle_buffer_size = len(images) \n",
    "\n",
    "test_dataset = test_dataset.shuffle(buffer_size=shuffle_buffer_size)\n",
    "test_dataset = test_dataset.batch(batch_size)"
   ]
  },
  {
   "cell_type": "code",
   "execution_count": 6,
   "metadata": {},
   "outputs": [],
   "source": [
    "from tensorflow import keras\n",
    "from keras.layers import Dense, Conv2D, MaxPooling2D, Flatten, Dropout,\\\n",
    "BatchNormalization, Activation, SpatialDropout2D, GlobalAveragePooling2D\n",
    "from keras.optimizers import Adam, SGD\n",
    "from keras.models import Sequential\n",
    "\n",
    "model = Sequential()\n",
    "\n",
    "model.add(Conv2D(32, (3, 3), padding='same', input_shape=(224, 224, 3)))\n",
    "model.add(Conv2D(64, kernel_size=(3, 3), activation='relu', padding='same'))\n",
    "model.add(BatchNormalization())\n",
    "model.add(Activation('relu'))\n",
    "model.add(MaxPooling2D(pool_size=(2, 2)))\n",
    "model.add(SpatialDropout2D(0.2))\n",
    "\n",
    "model.add(Conv2D(128, (3, 3), padding='same', input_shape=(224, 224, 3)))\n",
    "model.add(Conv2D(64, kernel_size=(3, 3), activation='relu', padding='same'))\n",
    "model.add(BatchNormalization())\n",
    "model.add(Activation('relu'))\n",
    "model.add(MaxPooling2D(pool_size=(2, 2)))\n",
    "model.add(SpatialDropout2D(0.2))\n",
    "\n",
    "model.add(Flatten())\n",
    "\n",
    "model.add(Dense(256, activation='relu'))\n",
    "model.add(Dropout(0.35))\n",
    "model.add(Dense(6, activation='softmax'))\n",
    "\n",
    "model.compile(optimizer=Adam(learning_rate=0.0001), \n",
    "                  loss='categorical_crossentropy', \n",
    "                  metrics=['accuracy'])\n",
    "model.load_weights(\"/Users/jasur/desktop/saved_weights/CustomNet.h5\")\n"
   ]
  },
  {
   "cell_type": "code",
   "execution_count": 7,
   "metadata": {},
   "outputs": [],
   "source": [
    "from keras.callbacks import ModelCheckpoint, EarlyStopping\n",
    "\n",
    "chk_path = 'CustomNet.h5'\n",
    "\n",
    "checkpoint = ModelCheckpoint(filepath=chk_path,\n",
    "                             save_best_only=True,\n",
    "                             verbose=1,\n",
    "                             moniter='val_accuracy')\n",
    "\n",
    "earlystop = EarlyStopping(monitor='val_accuracy',  \n",
    "                          patience=3, \n",
    "                          verbose=1, \n",
    "                          restore_best_weights=True)\n",
    "\n",
    "callbacks = [checkpoint, earlystop]"
   ]
  },
  {
   "cell_type": "code",
   "execution_count": 8,
   "metadata": {},
   "outputs": [
    {
     "name": "stdout",
     "output_type": "stream",
     "text": [
      "Epoch 1/3\n",
      "446/446 [==============================] - ETA: 0s - loss: 1.7598 - accuracy: 0.2187\n",
      "Epoch 1: val_loss improved from inf to 1.72741, saving model to CustomNet.h5\n"
     ]
    },
    {
     "name": "stderr",
     "output_type": "stream",
     "text": [
      "/Users/jasur/Library/Python/3.9/lib/python/site-packages/keras/src/engine/training.py:3103: UserWarning: You are saving your model as an HDF5 file via `model.save()`. This file format is considered legacy. We recommend using instead the native Keras format, e.g. `model.save('my_model.keras')`.\n",
      "  saving_api.save_model(\n"
     ]
    },
    {
     "name": "stdout",
     "output_type": "stream",
     "text": [
      "446/446 [==============================] - 2504s 6s/step - loss: 1.7598 - accuracy: 0.2187 - val_loss: 1.7274 - val_accuracy: 0.3051\n",
      "Epoch 2/3\n",
      "446/446 [==============================] - ETA: 0s - loss: 1.7204 - accuracy: 0.2983\n",
      "Epoch 2: val_loss improved from 1.72741 to 1.69936, saving model to CustomNet.h5\n",
      "446/446 [==============================] - 2737s 6s/step - loss: 1.7204 - accuracy: 0.2983 - val_loss: 1.6994 - val_accuracy: 0.3072\n",
      "Epoch 3/3\n",
      "446/446 [==============================] - ETA: 0s - loss: 1.6878 - accuracy: 0.3056\n",
      "Epoch 3: val_loss improved from 1.69936 to 1.68898, saving model to CustomNet.h5\n",
      "446/446 [==============================] - 2527s 6s/step - loss: 1.6878 - accuracy: 0.3056 - val_loss: 1.6890 - val_accuracy: 0.3116\n"
     ]
    }
   ],
   "source": [
    "# ADD MORE OF THESE BLOCKS TO TRAIN MORE IF YOU THINK IT'S A PROMISING MODEL\n",
    "model_sum = model.fit(train_dataset,\n",
    "                      validation_data=val_dataset,\n",
    "                      epochs=3, \n",
    "                      callbacks=callbacks)"
   ]
  },
  {
   "cell_type": "code",
   "execution_count": 9,
   "metadata": {},
   "outputs": [
    {
     "name": "stdout",
     "output_type": "stream",
     "text": [
      "Epoch 1/10\n",
      "446/446 [==============================] - ETA: 0s - loss: 1.6520 - accuracy: 0.3138\n",
      "Epoch 1: val_loss improved from 1.68898 to 1.66044, saving model to CustomNet.h5\n",
      "446/446 [==============================] - 2833s 6s/step - loss: 1.6520 - accuracy: 0.3138 - val_loss: 1.6604 - val_accuracy: 0.3181\n",
      "Epoch 2/10\n",
      "446/446 [==============================] - ETA: 0s - loss: 1.6159 - accuracy: 0.3267\n",
      "Epoch 2: val_loss did not improve from 1.66044\n",
      "446/446 [==============================] - 2847s 6s/step - loss: 1.6159 - accuracy: 0.3267 - val_loss: 1.6714 - val_accuracy: 0.3164\n",
      "Epoch 3/10\n",
      "446/446 [==============================] - ETA: 0s - loss: 1.5804 - accuracy: 0.3373\n",
      "Epoch 3: val_loss improved from 1.66044 to 1.65582, saving model to CustomNet.h5\n",
      "446/446 [==============================] - 2864s 6s/step - loss: 1.5804 - accuracy: 0.3373 - val_loss: 1.6558 - val_accuracy: 0.3194\n",
      "Epoch 4/10\n",
      "446/446 [==============================] - ETA: 0s - loss: 1.5408 - accuracy: 0.3492\n",
      "Epoch 4: val_loss improved from 1.65582 to 1.63751, saving model to CustomNet.h5\n",
      "446/446 [==============================] - 2869s 6s/step - loss: 1.5408 - accuracy: 0.3492 - val_loss: 1.6375 - val_accuracy: 0.3202\n",
      "Epoch 5/10\n",
      "446/446 [==============================] - ETA: 0s - loss: 1.5032 - accuracy: 0.3628\n",
      "Epoch 5: val_loss improved from 1.63751 to 1.63609, saving model to CustomNet.h5\n",
      "446/446 [==============================] - 2861s 6s/step - loss: 1.5032 - accuracy: 0.3628 - val_loss: 1.6361 - val_accuracy: 0.3312\n",
      "Epoch 6/10\n",
      "446/446 [==============================] - ETA: 0s - loss: 1.4609 - accuracy: 0.3749\n",
      "Epoch 6: val_loss did not improve from 1.63609\n",
      "446/446 [==============================] - 2849s 6s/step - loss: 1.4609 - accuracy: 0.3749 - val_loss: 1.6444 - val_accuracy: 0.3318\n",
      "Epoch 7/10\n",
      "446/446 [==============================] - ETA: 0s - loss: 1.4205 - accuracy: 0.3881\n",
      "Epoch 7: val_loss did not improve from 1.63609\n",
      "446/446 [==============================] - 2857s 6s/step - loss: 1.4205 - accuracy: 0.3881 - val_loss: 1.6432 - val_accuracy: 0.3389\n",
      "Epoch 8/10\n",
      "446/446 [==============================] - ETA: 0s - loss: 1.3856 - accuracy: 0.4002\n",
      "Epoch 8: val_loss did not improve from 1.63609\n",
      "446/446 [==============================] - 2872s 6s/step - loss: 1.3856 - accuracy: 0.4002 - val_loss: 1.6458 - val_accuracy: 0.3356\n",
      "Epoch 9/10\n",
      "446/446 [==============================] - ETA: 0s - loss: 1.3411 - accuracy: 0.4181\n",
      "Epoch 9: val_loss did not improve from 1.63609\n",
      "446/446 [==============================] - 2872s 6s/step - loss: 1.3411 - accuracy: 0.4181 - val_loss: 2.0116 - val_accuracy: 0.3171\n",
      "Epoch 10/10\n",
      "446/446 [==============================] - ETA: 0s - loss: 1.3049 - accuracy: 0.4312\n",
      "Epoch 10: val_loss did not improve from 1.63609\n",
      "446/446 [==============================] - 2875s 6s/step - loss: 1.3049 - accuracy: 0.4312 - val_loss: 1.6737 - val_accuracy: 0.3461\n"
     ]
    }
   ],
   "source": [
    "# ADD MORE OF THESE BLOCKS TO TRAIN MORE IF YOU THINK IT'S A PROMISING MODEL\n",
    "model_sum = model.fit(train_dataset,\n",
    "                      validation_data=val_dataset,\n",
    "                      epochs=10, \n",
    "                      callbacks=callbacks)"
   ]
  },
  {
   "cell_type": "code",
   "execution_count": 10,
   "metadata": {},
   "outputs": [
    {
     "name": "stdout",
     "output_type": "stream",
     "text": [
      "149/149 [==============================] - 240s 2s/step - loss: 1.6836 - accuracy: 0.3354\n",
      "Test accuracy: 0.3353671431541443\n",
      "Test loss: 1.6835956573486328\n"
     ]
    }
   ],
   "source": [
    "scores = model.evaluate(test_dataset, verbose=1)\n",
    "\n",
    "print('Test accuracy:', scores[1])\n",
    "print('Test loss:', scores[0])"
   ]
  },
  {
   "cell_type": "code",
   "execution_count": 13,
   "metadata": {},
   "outputs": [],
   "source": [
    "from matplotlib import pyplot as plt\n",
    "\n",
    "plt.plot(list(range(1, 4)), model_sum.history[\"loss\"])\n",
    "plt.plot(list(range(1, 4)), model_sum.history[\"val_loss\"])\n",
    "plt.title(\"Model loss on validation and training sets\")\n",
    "plt.legend([\"Train\", \"Validation\"])\n",
    "plt.xlabel(\"Epochs\")\n",
    "plt.ylabel(\"Cross Entropy Loss\")\n",
    "plt.show()"
   ]
  },
  {
   "cell_type": "code",
   "execution_count": null,
   "metadata": {},
   "outputs": [],
   "source": [
    "plt.plot(list(range(1, 4)), model_sum.history[\"accuracy\"])\n",
    "plt.plot(list(range(1, 4)), model_sum.history[\"val_accuracy\"])\n",
    "plt.title(\"Model accuracy on validation and training sets\")\n",
    "plt.legend([\"Train\", \"Validation\"])\n",
    "plt.xlabel(\"Epochs\")\n",
    "plt.ylabel(\"Accuracy\")\n",
    "plt.show()"
   ]
  },
  {
   "cell_type": "code",
   "execution_count": 2,
   "metadata": {},
   "outputs": [],
   "source": [
    "from keras.applications.vgg16 import VGG16\n",
    "from keras.layers import Dense, Conv2D, MaxPooling2D, Flatten, Dropout, \\\n",
    "    BatchNormalization, Activation, SpatialDropout2D, GlobalAveragePooling2D\n",
    "from keras.optimizers import Adam, SGD\n",
    "from keras.models import Sequential, Model\n",
    "\n",
    "\n",
    "model_1 = VGG16(weights = 'imagenet', input_shape=(224, 224, 3), include_top = False)\n",
    "\n",
    "model_1.trainable = False\n",
    "\n",
    "\n",
    "model_2 = Sequential()\n",
    "\n",
    "model_2.add(Conv2D(128, (5, 5), padding='same', input_shape=model_1.output_shape[1:]))\n",
    "model_2.add(Conv2D(256, kernel_size=(3, 3), activation='relu', padding='same'))\n",
    "model_2.add(BatchNormalization())\n",
    "model_2.add(MaxPooling2D(pool_size=(2, 2)))\n",
    "model_2.add(SpatialDropout2D(0.25))\n",
    "\n",
    "model_2.add(Flatten())\n",
    "\n",
    "model_2.add(Dense(64, activation='relu'))\n",
    "model_2.add(Dense(256, activation='relu'))\n",
    "model_2.add(Dense(6, activation='softmax'))\n",
    "\n",
    "model = Model(inputs=model_1.input, outputs=model_2(model_1.output))\n",
    "\n",
    "for layer in model.layers:\n",
    "    layer.trainable = True\n",
    "    \n",
    "model.compile(optimizer=Adam(learning_rate=0.0001), \n",
    "                  loss='categorical_crossentropy', \n",
    "                  metrics=['accuracy'])\n",
    "\n",
    "model.load_weights(\"/Users/jasur/desktop/CustomVGG.h5\")"
   ]
  },
  {
   "cell_type": "code",
   "execution_count": 3,
   "metadata": {},
   "outputs": [],
   "source": [
    "from keras.callbacks import ModelCheckpoint, EarlyStopping\n",
    "\n",
    "chk_path = 'CustomVGG.h5'\n",
    "\n",
    "checkpoint = ModelCheckpoint(filepath=chk_path,\n",
    "                             save_best_only=True,\n",
    "                             verbose=1,\n",
    "                             moniter='val_accuracy')\n",
    "\n",
    "earlystop = EarlyStopping(monitor='val_accuracy',  \n",
    "                          patience=3, \n",
    "                          verbose=1, \n",
    "                          restore_best_weights=True)\n",
    "\n",
    "callbacks = [checkpoint, earlystop]"
   ]
  },
  {
   "cell_type": "code",
   "execution_count": 15,
   "metadata": {},
   "outputs": [
    {
     "name": "stdout",
     "output_type": "stream",
     "text": [
      "446/446 [==============================] - ETA: 0s - loss: 1.0159 - accuracy: 0.6111 \n",
      "Epoch 1: val_loss improved from inf to 1.24042, saving model to CustomVGG.h5\n"
     ]
    },
    {
     "name": "stderr",
     "output_type": "stream",
     "text": [
      "/Users/jasur/Library/Python/3.9/lib/python/site-packages/keras/src/engine/training.py:3103: UserWarning: You are saving your model as an HDF5 file via `model.save()`. This file format is considered legacy. We recommend using instead the native Keras format, e.g. `model.save('my_model.keras')`.\n",
      "  saving_api.save_model(\n"
     ]
    },
    {
     "name": "stdout",
     "output_type": "stream",
     "text": [
      "446/446 [==============================] - 8860s 20s/step - loss: 1.0159 - accuracy: 0.6111 - val_loss: 1.2404 - val_accuracy: 0.5601\n"
     ]
    }
   ],
   "source": [
    "# VGG epoch 1\n",
    "# ADD MORE OF THESE BLOCKS TO TRAIN MORE IF YOU THINK IT'S A PROMISING MODEL\n",
    "num_epochs = 1\n",
    "model_sum = model.fit(train_dataset,\n",
    "                      validation_data=val_dataset,\n",
    "                      epochs=num_epochs, \n",
    "                      callbacks=callbacks)"
   ]
  },
  {
   "cell_type": "code",
   "execution_count": 16,
   "metadata": {},
   "outputs": [
    {
     "name": "stdout",
     "output_type": "stream",
     "text": [
      "149/149 [==============================] - 693s 5s/step - loss: 1.2294 - accuracy: 0.5424\n",
      "Test accuracy: 0.5423942804336548\n",
      "Test loss: 1.2293654680252075\n"
     ]
    }
   ],
   "source": [
    "scores = model.evaluate(test_dataset, verbose=1)\n",
    "\n",
    "print('Test accuracy:', scores[1])\n",
    "print('Test loss:', scores[0])"
   ]
  },
  {
   "cell_type": "code",
   "execution_count": 17,
   "metadata": {},
   "outputs": [
    {
     "name": "stdout",
     "output_type": "stream",
     "text": [
      "446/446 [==============================] - ETA: 0s - loss: 0.9302 - accuracy: 0.6491 \n",
      "Epoch 1: val_loss improved from 1.24042 to 1.01711, saving model to CustomVGG.h5\n",
      "446/446 [==============================] - 7457s 17s/step - loss: 0.9302 - accuracy: 0.6491 - val_loss: 1.0171 - val_accuracy: 0.6133\n"
     ]
    }
   ],
   "source": [
    "# VGG epoch 2\n",
    "# ADD MORE OF THESE BLOCKS TO TRAIN MORE IF WE THINK IT'S A PROMISING MODEL\n",
    "num_epochs = 1\n",
    "model_sum = model.fit(train_dataset,\n",
    "                      validation_data=val_dataset,\n",
    "                      epochs=num_epochs, \n",
    "                      callbacks=callbacks)"
   ]
  },
  {
   "cell_type": "code",
   "execution_count": 18,
   "metadata": {},
   "outputs": [
    {
     "name": "stdout",
     "output_type": "stream",
     "text": [
      "446/446 [==============================] - ETA: 0s - loss: 0.8479 - accuracy: 0.6816 \n",
      "Epoch 1: val_loss improved from 1.01711 to 0.97175, saving model to CustomVGG.h5\n",
      "446/446 [==============================] - 9165s 21s/step - loss: 0.8479 - accuracy: 0.6816 - val_loss: 0.9717 - val_accuracy: 0.6335\n"
     ]
    }
   ],
   "source": [
    "# VGG epoch 3\n",
    "# ADD MORE OF THESE BLOCKS TO TRAIN MORE IF WE THINK IT'S A PROMISING MODEL\n",
    "num_epochs = 1\n",
    "model_sum = model.fit(train_dataset,\n",
    "                      validation_data=val_dataset,\n",
    "                      epochs=num_epochs, \n",
    "                      callbacks=callbacks)"
   ]
  },
  {
   "cell_type": "code",
   "execution_count": 20,
   "metadata": {},
   "outputs": [
    {
     "name": "stdout",
     "output_type": "stream",
     "text": [
      "446/446 [==============================] - ETA: 0s - loss: 0.7637 - accuracy: 0.7157 \n",
      "Epoch 1: val_loss did not improve from 0.97175\n",
      "446/446 [==============================] - 8949s 20s/step - loss: 0.7637 - accuracy: 0.7157 - val_loss: 1.0545 - val_accuracy: 0.6272\n"
     ]
    }
   ],
   "source": [
    "# VGG epoch 4\n",
    "# ADD MORE OF THESE BLOCKS TO TRAIN MORE IF WE THINK IT'S A PROMISING MODEL\n",
    "num_epochs = 1\n",
    "model_sum = model.fit(train_dataset,\n",
    "                      validation_data=val_dataset,\n",
    "                      epochs=num_epochs, \n",
    "                      callbacks=callbacks)"
   ]
  },
  {
   "cell_type": "code",
   "execution_count": 12,
   "metadata": {},
   "outputs": [],
   "source": [
    "scores = model.evaluate(test_dataset, verbose=1)\n",
    "\n",
    "print('Test accuracy:', scores[1])\n",
    "print('Test loss:', scores[0])"
   ]
  },
  {
   "cell_type": "code",
   "execution_count": 22,
   "metadata": {},
   "outputs": [
    {
     "name": "stdout",
     "output_type": "stream",
     "text": [
      "446/446 [==============================] - ETA: 0s - loss: 0.6605 - accuracy: 0.7548 \n",
      "Epoch 1: val_loss did not improve from 0.97175\n",
      "446/446 [==============================] - 8859s 20s/step - loss: 0.6605 - accuracy: 0.7548 - val_loss: 1.0126 - val_accuracy: 0.6489\n"
     ]
    }
   ],
   "source": [
    "# VGG epoch 5\n",
    "# ADD MORE OF THESE BLOCKS TO TRAIN MORE IF WE THINK IT'S A PROMISING MODEL\n",
    "num_epochs = 1\n",
    "model_sum = model.fit(train_dataset,\n",
    "                      validation_data=val_dataset,\n",
    "                      epochs=num_epochs, \n",
    "                      callbacks=callbacks)"
   ]
  },
  {
   "cell_type": "code",
   "execution_count": 23,
   "metadata": {},
   "outputs": [
    {
     "name": "stdout",
     "output_type": "stream",
     "text": [
      "Epoch 1/4\n",
      "446/446 [==============================] - ETA: 0s - loss: 0.5460 - accuracy: 0.8030 \n",
      "Epoch 1: val_loss did not improve from 0.97175\n",
      "446/446 [==============================] - 9021s 20s/step - loss: 0.5460 - accuracy: 0.8030 - val_loss: 1.0445 - val_accuracy: 0.6440\n",
      "Epoch 2/4\n",
      "446/446 [==============================] - ETA: 0s - loss: 0.4359 - accuracy: 0.8395 \n",
      "Epoch 2: val_loss did not improve from 0.97175\n",
      "446/446 [==============================] - 9098s 20s/step - loss: 0.4359 - accuracy: 0.8395 - val_loss: 1.2359 - val_accuracy: 0.6120\n",
      "Epoch 3/4\n",
      "446/446 [==============================] - ETA: 0s - loss: 0.3323 - accuracy: 0.8824 \n",
      "Epoch 3: val_loss did not improve from 0.97175\n",
      "446/446 [==============================] - 9172s 21s/step - loss: 0.3323 - accuracy: 0.8824 - val_loss: 1.2123 - val_accuracy: 0.6377\n",
      "Epoch 4/4\n",
      "446/446 [==============================] - ETA: 0s - loss: 0.2450 - accuracy: 0.9108 \n",
      "Epoch 4: val_loss did not improve from 0.97175\n",
      "Restoring model weights from the end of the best epoch: 1.\n",
      "446/446 [==============================] - 9210s 21s/step - loss: 0.2450 - accuracy: 0.9108 - val_loss: 1.5720 - val_accuracy: 0.6139\n",
      "Epoch 4: early stopping\n"
     ]
    }
   ],
   "source": [
    "# VGG epoch 5 to 9\n",
    "# ADD MORE OF THESE BLOCKS TO TRAIN MORE IF WE THINK IT'S A PROMISING MODEL\n",
    "num_epochs = 4\n",
    "model_sum = model.fit(train_dataset,\n",
    "                      validation_data=val_dataset,\n",
    "                      epochs=num_epochs, \n",
    "                      callbacks=callbacks)"
   ]
  },
  {
   "cell_type": "code",
   "execution_count": 7,
   "metadata": {},
   "outputs": [
    {
     "name": "stdout",
     "output_type": "stream",
     "text": [
      "595/595 [==============================] - ETA: 0s - loss: 1.0169 - accuracy: 0.6111 \n",
      "Epoch 1: val_loss improved from inf to 0.91395, saving model to CustomVGG.h5\n"
     ]
    },
    {
     "name": "stderr",
     "output_type": "stream",
     "text": [
      "/Users/jasur/Library/Python/3.9/lib/python/site-packages/keras/src/engine/training.py:3103: UserWarning: You are saving your model as an HDF5 file via `model.save()`. This file format is considered legacy. We recommend using instead the native Keras format, e.g. `model.save('my_model.keras')`.\n",
      "  saving_api.save_model(\n"
     ]
    },
    {
     "name": "stdout",
     "output_type": "stream",
     "text": [
      "595/595 [==============================] - 8805s 15s/step - loss: 1.0169 - accuracy: 0.6111 - val_loss: 0.9140 - val_accuracy: 0.6553\n"
     ]
    }
   ],
   "source": [
    "# VGG epoch 1 with Even_More_Data\n",
    "# ADD MORE OF THESE BLOCKS TO TRAIN MORE IF WE THINK IT'S A PROMISING MODEL\n",
    "num_epochs = 1\n",
    "model_sum = model.fit(train_dataset,\n",
    "                      validation_data=val_dataset,\n",
    "                      epochs=num_epochs, \n",
    "                      callbacks=callbacks)"
   ]
  },
  {
   "cell_type": "code",
   "execution_count": 8,
   "metadata": {},
   "outputs": [
    {
     "name": "stdout",
     "output_type": "stream",
     "text": [
      "Epoch 1/4\n",
      "595/595 [==============================] - ETA: 0s - loss: 0.9247 - accuracy: 0.6489 \n",
      "Epoch 1: val_loss improved from 0.91395 to 0.85973, saving model to CustomVGG.h5\n",
      "595/595 [==============================] - 8937s 15s/step - loss: 0.9247 - accuracy: 0.6489 - val_loss: 0.8597 - val_accuracy: 0.6863\n",
      "Epoch 2/4\n",
      "595/595 [==============================] - ETA: 0s - loss: 0.8361 - accuracy: 0.6840 \n",
      "Epoch 2: val_loss improved from 0.85973 to 0.82304, saving model to CustomVGG.h5\n",
      "595/595 [==============================] - 8852s 15s/step - loss: 0.8361 - accuracy: 0.6840 - val_loss: 0.8230 - val_accuracy: 0.6897\n",
      "Epoch 3/4\n",
      "595/595 [==============================] - ETA: 0s - loss: 0.7614 - accuracy: 0.7184 \n",
      "Epoch 3: val_loss improved from 0.82304 to 0.68986, saving model to CustomVGG.h5\n",
      "595/595 [==============================] - 8881s 15s/step - loss: 0.7614 - accuracy: 0.7184 - val_loss: 0.6899 - val_accuracy: 0.7486\n",
      "Epoch 4/4\n",
      "595/595 [==============================] - ETA: 0s - loss: 0.6604 - accuracy: 0.7580 \n",
      "Epoch 4: val_loss improved from 0.68986 to 0.59250, saving model to CustomVGG.h5\n",
      "595/595 [==============================] - 8856s 15s/step - loss: 0.6604 - accuracy: 0.7580 - val_loss: 0.5925 - val_accuracy: 0.7720\n"
     ]
    }
   ],
   "source": [
    "# VGG epoch 2 to 5 with Even_More_Data\n",
    "# ADD MORE OF THESE BLOCKS TO TRAIN MORE IF WE THINK IT'S A PROMISING MODEL\n",
    "num_epochs = 4\n",
    "model_sum = model.fit(train_dataset,\n",
    "                      validation_data=val_dataset,\n",
    "                      epochs=num_epochs, \n",
    "                      callbacks=callbacks)"
   ]
  },
  {
   "cell_type": "code",
   "execution_count": 9,
   "metadata": {},
   "outputs": [
    {
     "name": "stdout",
     "output_type": "stream",
     "text": [
      "186/186 [==============================] - 790s 4s/step - loss: 1.0556 - accuracy: 0.6321\n",
      "Test accuracy: 0.6321024894714355\n",
      "Test loss: 1.0555546283721924\n"
     ]
    }
   ],
   "source": [
    "# Test Accuracy on VGG with Even_More_Data\n",
    "scores = model.evaluate(test_dataset, verbose=1)\n",
    "\n",
    "print('Test accuracy:', scores[1])\n",
    "print('Test loss:', scores[0])"
   ]
  },
  {
   "cell_type": "code",
   "execution_count": 19,
   "metadata": {},
   "outputs": [
    {
     "data": {
      "image/png": "[encoded data removed]",
      "text/plain": [
       "<Figure size 640x480 with 1 Axes>"
      ]
     },
     "metadata": {},
     "output_type": "display_data"
    }
   ],
   "source": [
    "plt.plot(list(range(1, num_epochs + 1)), model_sum.history[\"loss\"])\n",
    "plt.plot(list(range(1, num_epochs + 1)), model_sum.history[\"val_loss\"])\n",
    "plt.title(\"Model loss on validation and training sets\")\n",
    "plt.legend([\"Train\", \"Validation\"])\n",
    "plt.xlabel(\"Epochs\")\n",
    "plt.ylabel(\"Cross Entropy Loss\")\n",
    "plt.show()"
   ]
  },
  {
   "cell_type": "code",
   "execution_count": null,
   "metadata": {},
   "outputs": [],
   "source": [
    "plt.plot(list(range(1, num_epochs + 1)), model_sum.history[\"accuracy\"])\n",
    "plt.plot(list(range(1, num_epochs + 1)), model_sum.history[\"val_accuracy\"])\n",
    "plt.title(\"Model accuracy on validation and training sets\")\n",
    "plt.legend([\"Train\", \"Validation\"])\n",
    "plt.xlabel(\"Epochs\")\n",
    "plt.ylabel(\"Accuracy\")\n",
    "plt.show()"
   ]
  },
  {
   "cell_type": "code",
   "execution_count": null,
   "metadata": {},
   "outputs": [],
   "source": [
    "%pwd"
   ]
  },
  {
   "cell_type": "code",
   "execution_count": null,
   "metadata": {},
   "outputs": [],
   "source": []
  }
 ],
 "metadata": {
  "kernelspec": {
   "display_name": "Python 3",
   "language": "python",
   "name": "python3"
  },
  "language_info": {
   "codemirror_mode": {
    "name": "ipython",
    "version": 3
   },
   "file_extension": ".py",
   "mimetype": "text/x-python",
   "name": "python",
   "nbconvert_exporter": "python",
   "pygments_lexer": "ipython3",
   "version": "3.9.6"
  }
 },
 "nbformat": 4,
 "nbformat_minor": 2
}
