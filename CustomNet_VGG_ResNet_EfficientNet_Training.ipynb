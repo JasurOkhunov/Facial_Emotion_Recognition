{
 "cells": [
  {
   "cell_type": "code",
   "execution_count": 5,
   "metadata": {},
   "outputs": [],
   "source": [
    "# RERUN AT HOME\n",
    "import glob"
   ]
  },
  {
   "cell_type": "code",
   "execution_count": 6,
   "metadata": {},
   "outputs": [],
   "source": [
    "# RERUN AT HOME\n",
    "path = \"/Users/jasur/desktop/FER13/train\" # use your path, all images"
   ]
  },
  {
   "cell_type": "code",
   "execution_count": 7,
   "metadata": {},
   "outputs": [],
   "source": [
    "# RERUN AT HOME\n",
    "angry_images = glob.glob(path + '/angry/*', recursive=True)\n",
    "fear_images = glob.glob(path + '/fear/*', recursive=True)\n",
    "happy_images = glob.glob(path + '/happy/*', recursive=True)\n",
    "neutral_images = glob.glob(path + '/neutral/*', recursive=True)\n",
    "surprise_images = glob.glob(path + '/surprise/*', recursive=True)\n",
    "sad_images = glob.glob(path + '/sad/*', recursive=True)"
   ]
  },
  {
   "cell_type": "code",
   "execution_count": 8,
   "metadata": {},
   "outputs": [
    {
     "name": "stdout",
     "output_type": "stream",
     "text": [
      "Number of images:  8400\n"
     ]
    }
   ],
   "source": [
    "train_images = angry_images[:1400] + fear_images[:1400]+ happy_images[:1400] + neutral_images[:1400] + surprise_images[:1400] + sad_images[:1400]\n",
    "print(\"Number of images: \", len(train_images))"
   ]
  },
  {
   "cell_type": "code",
   "execution_count": 9,
   "metadata": {},
   "outputs": [
    {
     "name": "stdout",
     "output_type": "stream",
     "text": [
      "Number of images:  1200\n",
      "Number of images:  1200\n"
     ]
    }
   ],
   "source": [
    "validation_images = angry_images[1400:1600] + fear_images[1400:1600] + happy_images[1400:1600] + neutral_images[1400:1600] + surprise_images[1400:1600] + sad_images[1400:1600]\n",
    "print(\"Number of images: \", len(validation_images))\n",
    "test_images = angry_images[1600:1800] + fear_images[1600:1800] + happy_images[1600:1800] + neutral_images[1600:1800] + surprise_images[1600:1800] + sad_images[1600:1800]\n",
    "print(\"Number of images: \", len(test_images))"
   ]
  },
  {
   "cell_type": "code",
   "execution_count": 10,
   "metadata": {},
   "outputs": [
    {
     "name": "stderr",
     "output_type": "stream",
     "text": [
      "/Users/jasur/Library/Python/3.9/lib/python/site-packages/sklearn/preprocessing/_encoders.py:975: FutureWarning: `sparse` was renamed to `sparse_output` in version 1.2 and will be removed in 1.4. `sparse_output` is ignored unless you leave `sparse` to its default value.\n",
      "  warnings.warn(\n",
      "/Users/jasur/Library/Python/3.9/lib/python/site-packages/sklearn/preprocessing/_encoders.py:975: FutureWarning: `sparse` was renamed to `sparse_output` in version 1.2 and will be removed in 1.4. `sparse_output` is ignored unless you leave `sparse` to its default value.\n",
      "  warnings.warn(\n",
      "/Users/jasur/Library/Python/3.9/lib/python/site-packages/sklearn/preprocessing/_encoders.py:975: FutureWarning: `sparse` was renamed to `sparse_output` in version 1.2 and will be removed in 1.4. `sparse_output` is ignored unless you leave `sparse` to its default value.\n",
      "  warnings.warn(\n"
     ]
    }
   ],
   "source": [
    "from PIL import Image\n",
    "import os\n",
    "import numpy as np\n",
    "import pickle\n",
    "import tensorflow as tf\n",
    "from sklearn.preprocessing import LabelEncoder, OneHotEncoder\n",
    "\n",
    "# Assuming you have a list of image paths like this\n",
    "image_paths = train_images\n",
    "\n",
    "# Set the target size for resizing the images\n",
    "target_size = (224, 224)\n",
    "\n",
    "# Create empty lists to store the images and labels\n",
    "images = []\n",
    "labels = []\n",
    "\n",
    "def preprocess(image_paths, cat, train = False, label_encoder = None):\n",
    "    images, labels = [], []\n",
    "\n",
    "    for path in image_paths:\n",
    "        img = Image.open(path).convert('RGB')\n",
    "        img = img.resize(target_size)\n",
    "        img_array = np.array(img) / 255.0  \n",
    "        images.append(img_array)\n",
    "\n",
    "    for path in image_paths:\n",
    "        label = os.path.basename(os.path.dirname(path))\n",
    "        labels.append(label)\n",
    "    if train:\n",
    "        label_encoder = LabelEncoder()\n",
    "        encoded_labels = label_encoder.fit_transform(labels)\n",
    "    else:\n",
    "        encoded_labels = label_encoder.transform(labels)\n",
    "\n",
    "    onehot_encoder = OneHotEncoder(sparse=False)\n",
    "    encoded_labels = encoded_labels.reshape(len(encoded_labels), 1)\n",
    "    onehot_labels = onehot_encoder.fit_transform(encoded_labels)\n",
    "\n",
    "    images = np.array([img.reshape(target_size[0], target_size[1], 3) for img in images])\n",
    "    labels = np.array(onehot_labels)\n",
    "\n",
    "    dataset = tf.data.Dataset.from_tensor_slices((images, labels))\n",
    "\n",
    "    batch_size = 32\n",
    "    shuffle_buffer_size = len(images) \n",
    "\n",
    "    dataset = dataset.shuffle(buffer_size=shuffle_buffer_size)\n",
    "    dataset = dataset.batch(batch_size)\n",
    "\n",
    "    save_path = \"/Users/jasur/desktop/FER13/V2/\"\n",
    "    os.makedirs(save_path, exist_ok=True)\n",
    "\n",
    "    np.save(os.path.join(save_path, 'X_' + cat + '.npy'), images)\n",
    "    np.save(os.path.join(save_path, 'y_' + cat + '.npy'), labels)\n",
    "\n",
    "    return dataset, label_encoder\n",
    "\n",
    "\n",
    "train_dataset, label_encoder = preprocess(train_images, 'train', train=True)\n",
    "validation_dataset, _ = preprocess(validation_images, 'validation',label_encoder=label_encoder)\n",
    "test_dataset, _ = preprocess(test_images, 'test', label_encoder=label_encoder)"
   ]
  },
  {
   "cell_type": "code",
   "execution_count": 1,
   "metadata": {},
   "outputs": [],
   "source": [
    "from PIL import Image\n",
    "import os\n",
    "import numpy as np\n",
    "import pickle\n",
    "import tensorflow as tf\n",
    "from sklearn.preprocessing import LabelEncoder, OneHotEncoder\n",
    "\n",
    "save_path = \"/Users/jasur/desktop/FER13/Data_Even_More_.np_arrays\"\n",
    "\n",
    "images = np.load(os.path.join(save_path, 'X_train.npy'))\n",
    "labels = np.load(os.path.join(save_path, 'y_train.npy'))\n",
    "train_dataset = tf.data.Dataset.from_tensor_slices((images, labels))\n",
    "\n",
    "batch_size = 32\n",
    "shuffle_buffer_size = len(images) \n",
    "\n",
    "train_dataset = train_dataset.shuffle(buffer_size=shuffle_buffer_size)\n",
    "train_dataset = train_dataset.batch(batch_size)"
   ]
  },
  {
   "cell_type": "code",
   "execution_count": 2,
   "metadata": {},
   "outputs": [],
   "source": [
    "images = np.load(os.path.join(save_path, 'X_val.npy'))\n",
    "labels = np.load(os.path.join(save_path, 'y_val.npy'))\n",
    "validation_dataset = tf.data.Dataset.from_tensor_slices((images, labels))\n",
    "\n",
    "batch_size = 32\n",
    "shuffle_buffer_size = len(images) \n",
    "\n",
    "validation_dataset = validation_dataset.shuffle(buffer_size=shuffle_buffer_size)\n",
    "validation_dataset = validation_dataset.batch(batch_size)"
   ]
  },
  {
   "cell_type": "code",
   "execution_count": 3,
   "metadata": {},
   "outputs": [],
   "source": [
    "images = np.load(os.path.join(save_path, 'X_test.npy'))\n",
    "labels = np.load(os.path.join(save_path, 'y_test.npy'))\n",
    "test_dataset = tf.data.Dataset.from_tensor_slices((images, labels))\n",
    "\n",
    "batch_size = 32\n",
    "shuffle_buffer_size = len(images) \n",
    "\n",
    "test_dataset = test_dataset.shuffle(buffer_size=shuffle_buffer_size)\n",
    "test_dataset = test_dataset.batch(batch_size)"
   ]
  },
  {
   "cell_type": "code",
   "execution_count": 10,
   "metadata": {},
   "outputs": [],
   "source": [
    "from tensorflow import keras\n",
    "from keras.layers import Dense, Conv2D, MaxPooling2D, Flatten, Dropout,\\\n",
    "BatchNormalization, Activation, SpatialDropout2D, GlobalAveragePooling2D\n",
    "from keras.optimizers import Adam, SGD\n",
    "from keras.models import Sequential\n",
    "\n",
    "model = Sequential()\n",
    "\n",
    "model.add(Conv2D(32, (3, 3), padding='same', input_shape=(224, 224, 3)))\n",
    "model.add(Conv2D(64, kernel_size=(3, 3), activation='relu', padding='same'))\n",
    "model.add(BatchNormalization())\n",
    "model.add(Activation('relu'))\n",
    "model.add(MaxPooling2D(pool_size=(2, 2)))\n",
    "model.add(SpatialDropout2D(0.2))\n",
    "\n",
    "model.add(Conv2D(128, (3, 3), padding='same', input_shape=(224, 224, 3)))\n",
    "model.add(Conv2D(64, kernel_size=(3, 3), activation='relu', padding='same'))\n",
    "model.add(BatchNormalization())\n",
    "model.add(Activation('relu'))\n",
    "model.add(MaxPooling2D(pool_size=(2, 2)))\n",
    "model.add(SpatialDropout2D(0.2))\n",
    "\n",
    "model.add(Flatten())\n",
    "\n",
    "model.add(Dense(256, activation='relu'))\n",
    "model.add(Dropout(0.35))\n",
    "model.add(Dense(6, activation='softmax'))\n",
    "\n",
    "model.compile(optimizer=Adam(), \n",
    "                  loss='categorical_crossentropy', \n",
    "                  metrics=['accuracy'])\n"
   ]
  },
  {
   "cell_type": "code",
   "execution_count": 11,
   "metadata": {},
   "outputs": [],
   "source": [
    "from keras.callbacks import ModelCheckpoint, EarlyStopping\n",
    "from keras.utils.vis_utils import plot_model\n",
    "\n",
    "from sklearn.metrics import classification_report, confusion_matrix\n",
    "\n",
    "chk_path = 'CustomNet.h5'\n",
    "\n",
    "checkpoint = ModelCheckpoint(filepath=chk_path,\n",
    "                             save_best_only=True,\n",
    "                             verbose=1,\n",
    "                             moniter='val_accuracy')\n",
    "\n",
    "earlystop = EarlyStopping(monitor='val_accuracy',  \n",
    "                          patience=3, \n",
    "                          verbose=1, \n",
    "                          restore_best_weights=True)\n",
    "\n",
    "callbacks = [checkpoint, earlystop]"
   ]
  },
  {
   "cell_type": "code",
   "execution_count": 13,
   "metadata": {},
   "outputs": [
    {
     "name": "stdout",
     "output_type": "stream",
     "text": [
      "Epoch 1/3\n"
     ]
    },
    {
     "name": "stdout",
     "output_type": "stream",
     "text": [
      "263/263 [==============================] - ETA: 0s - loss: 1.8222 - accuracy: 0.1756\n",
      "Epoch 1: val_loss improved from inf to 1.79068, saving model to CustomNet.h5\n",
      "263/263 [==============================] - 1394s 5s/step - loss: 1.8222 - accuracy: 0.1756 - val_loss: 1.7907 - val_accuracy: 0.1883\n",
      "Epoch 2/3\n",
      "263/263 [==============================] - ETA: 0s - loss: 1.7925 - accuracy: 0.1786\n",
      "Epoch 2: val_loss did not improve from 1.79068\n",
      "263/263 [==============================] - 1423s 5s/step - loss: 1.7925 - accuracy: 0.1786 - val_loss: 1.7911 - val_accuracy: 0.1958\n",
      "Epoch 3/3\n",
      "263/263 [==============================] - ETA: 0s - loss: 1.7847 - accuracy: 0.2024\n",
      "Epoch 3: val_loss improved from 1.79068 to 1.79023, saving model to CustomNet.h5\n",
      "263/263 [==============================] - 1396s 5s/step - loss: 1.7847 - accuracy: 0.2024 - val_loss: 1.7902 - val_accuracy: 0.1992\n"
     ]
    }
   ],
   "source": [
    "model_sum = model.fit(train_dataset, validation_data=validation_dataset, epochs=3, callbacks=callbacks)"
   ]
  },
  {
   "cell_type": "code",
   "execution_count": 14,
   "metadata": {},
   "outputs": [
    {
     "name": "stdout",
     "output_type": "stream",
     "text": [
      "Epoch 1/3\n",
      "263/263 [==============================] - ETA: 0s - loss: 1.7776 - accuracy: 0.2083\n",
      "Epoch 1: val_loss improved from 1.79023 to 1.78301, saving model to CustomNet.h5\n",
      "263/263 [==============================] - 1450s 6s/step - loss: 1.7776 - accuracy: 0.2083 - val_loss: 1.7830 - val_accuracy: 0.1908\n",
      "Epoch 2/3\n",
      "263/263 [==============================] - ETA: 0s - loss: 1.7479 - accuracy: 0.2185\n",
      "Epoch 2: val_loss did not improve from 1.78301\n",
      "263/263 [==============================] - 1606s 6s/step - loss: 1.7479 - accuracy: 0.2185 - val_loss: 1.8134 - val_accuracy: 0.1900\n",
      "Epoch 3/3\n",
      "263/263 [==============================] - ETA: 0s - loss: 1.7469 - accuracy: 0.2268\n",
      "Epoch 3: val_loss did not improve from 1.78301\n",
      "263/263 [==============================] - 1767s 7s/step - loss: 1.7469 - accuracy: 0.2268 - val_loss: 1.8128 - val_accuracy: 0.2017\n"
     ]
    }
   ],
   "source": [
    "model_sum = model.fit(train_dataset, validation_data=validation_dataset, epochs=3, callbacks=callbacks)"
   ]
  },
  {
   "cell_type": "code",
   "execution_count": 76,
   "metadata": {},
   "outputs": [],
   "source": [
    "from tensorflow import keras\n",
    "from keras.layers import Dense, Conv2D, MaxPooling2D, Flatten, Dropout, \\\n",
    "    BatchNormalization, Activation, SpatialDropout2D, GlobalAveragePooling2D\n",
    "from keras.optimizers import Adam, SGD\n",
    "from keras.models import Sequential, Model\n",
    "\n",
    "\n",
    "model_1 = keras.applications.resnet.ResNet50(input_shape=(224, 224, 3), weights = 'imagenet', include_top = False)\n",
    "\n",
    "model_1.trainable = False\n",
    "\n",
    "model_2 = Sequential()\n",
    "\n",
    "model_2.add(Conv2D(128, (5, 5), padding='same', input_shape=model_1.output_shape[1:]))\n",
    "model_2.add(Conv2D(256, kernel_size=(3, 3), activation='relu', padding='same'))\n",
    "model_2.add(BatchNormalization())\n",
    "model_2.add(MaxPooling2D(pool_size=(2, 2)))\n",
    "model_2.add(SpatialDropout2D(0.25))\n",
    "\n",
    "model_2.add(Flatten())\n",
    "\n",
    "model_2.add(Dense(64, activation='relu'))\n",
    "model_2.add(Dense(256, activation='relu'))\n",
    "model_2.add(Dense(6, activation='softmax'))\n",
    "\n",
    "model = Model(inputs=model_1.input, outputs=model_2(model_1.output))\n",
    "\n",
    "for layer in model.layers[:100]:\n",
    "    layer.trainable = True\n",
    "\n",
    "model.compile(optimizer=Adam(learning_rate=0.0001,\n",
    "                  decay=1e-6), \n",
    "                  loss='categorical_crossentropy', \n",
    "                  metrics=['accuracy'])"
   ]
  },
  {
   "cell_type": "code",
   "execution_count": 70,
   "metadata": {},
   "outputs": [
    {
     "name": "stdout",
     "output_type": "stream",
     "text": [
      "Model: \"sequential_14\"\n",
      "_________________________________________________________________\n",
      " Layer (type)                Output Shape              Param #   \n",
      "=================================================================\n",
      " conv2d_44 (Conv2D)          (None, 7, 7, 128)         6553728   \n",
      "                                                                 \n",
      " conv2d_45 (Conv2D)          (None, 7, 7, 256)         295168    \n",
      "                                                                 \n",
      " batch_normalization_11 (Bat  (None, 7, 7, 256)        1024      \n",
      " chNormalization)                                                \n",
      "                                                                 \n",
      " max_pooling2d_21 (MaxPoolin  (None, 3, 3, 256)        0         \n",
      " g2D)                                                            \n",
      "                                                                 \n",
      " spatial_dropout2d_19 (Spati  (None, 3, 3, 256)        0         \n",
      " alDropout2D)                                                    \n",
      "                                                                 \n",
      " flatten_10 (Flatten)        (None, 2304)              0         \n",
      "                                                                 \n",
      " dense_29 (Dense)            (None, 64)                147520    \n",
      "                                                                 \n",
      " dense_30 (Dense)            (None, 32)                2080      \n",
      "                                                                 \n",
      " dense_31 (Dense)            (None, 6)                 198       \n",
      "                                                                 \n",
      "=================================================================\n",
      "Total params: 6,999,718\n",
      "Trainable params: 6,999,206\n",
      "Non-trainable params: 512\n",
      "_________________________________________________________________\n"
     ]
    }
   ],
   "source": [
    "model.layers[-1].summary()"
   ]
  },
  {
   "cell_type": "code",
   "execution_count": 77,
   "metadata": {},
   "outputs": [],
   "source": [
    "from keras.callbacks import ModelCheckpoint, EarlyStopping\n",
    "\n",
    "chk_path = 'CustomResNet.h5'\n",
    "\n",
    "checkpoint = ModelCheckpoint(filepath=chk_path,\n",
    "                             save_best_only=True,\n",
    "                             verbose=1,\n",
    "                             moniter='val_accuracy')\n",
    "\n",
    "earlystop = EarlyStopping(monitor='val_accuracy',  \n",
    "                          patience=3, \n",
    "                          verbose=1, \n",
    "                          restore_best_weights=True)\n",
    "\n",
    "callbacks = [checkpoint, earlystop]"
   ]
  },
  {
   "cell_type": "code",
   "execution_count": 78,
   "metadata": {},
   "outputs": [
    {
     "name": "stdout",
     "output_type": "stream",
     "text": [
      "Epoch 1/2\n"
     ]
    },
    {
     "name": "stdout",
     "output_type": "stream",
     "text": [
      "263/263 [==============================] - ETA: 0s - loss: 1.4329 - accuracy: 0.4301\n",
      "Epoch 1: val_loss improved from inf to 1.91655, saving model to CustomResNet.h5\n",
      "263/263 [==============================] - 2350s 9s/step - loss: 1.4329 - accuracy: 0.4301 - val_loss: 1.9166 - val_accuracy: 0.1667\n",
      "Epoch 2/2\n",
      "263/263 [==============================] - ETA: 0s - loss: 1.0995 - accuracy: 0.5740\n",
      "Epoch 2: val_loss improved from 1.91655 to 1.79746, saving model to CustomResNet.h5\n",
      "263/263 [==============================] - 1941s 7s/step - loss: 1.0995 - accuracy: 0.5740 - val_loss: 1.7975 - val_accuracy: 0.2117\n"
     ]
    }
   ],
   "source": [
    "model_sum = model.fit(train_dataset, validation_data=validation_dataset, epochs=2, callbacks=callbacks)"
   ]
  },
  {
   "cell_type": "code",
   "execution_count": 79,
   "metadata": {},
   "outputs": [
    {
     "name": "stdout",
     "output_type": "stream",
     "text": [
      "Epoch 1/10\n"
     ]
    },
    {
     "name": "stdout",
     "output_type": "stream",
     "text": [
      "263/263 [==============================] - ETA: 0s - loss: 0.8477 - accuracy: 0.6833\n",
      "Epoch 1: val_loss improved from 1.79746 to 1.55126, saving model to CustomResNet.h5\n",
      "263/263 [==============================] - 1918s 7s/step - loss: 0.8477 - accuracy: 0.6833 - val_loss: 1.5513 - val_accuracy: 0.4017\n",
      "Epoch 2/10\n",
      "263/263 [==============================] - ETA: 0s - loss: 0.6001 - accuracy: 0.7757\n",
      "Epoch 2: val_loss did not improve from 1.55126\n",
      "263/263 [==============================] - 1877s 7s/step - loss: 0.6001 - accuracy: 0.7757 - val_loss: 1.6102 - val_accuracy: 0.4508\n",
      "Epoch 3/10\n",
      "263/263 [==============================] - ETA: 0s - loss: 0.3650 - accuracy: 0.8676\n",
      "Epoch 3: val_loss did not improve from 1.55126\n",
      "263/263 [==============================] - 1914s 7s/step - loss: 0.3650 - accuracy: 0.8676 - val_loss: 1.5997 - val_accuracy: 0.5325\n",
      "Epoch 4/10\n",
      "263/263 [==============================] - ETA: 0s - loss: 0.2196 - accuracy: 0.9256\n",
      "Epoch 4: val_loss did not improve from 1.55126\n",
      "263/263 [==============================] - 1884s 7s/step - loss: 0.2196 - accuracy: 0.9256 - val_loss: 1.5788 - val_accuracy: 0.5617\n",
      "Epoch 5/10\n",
      "263/263 [==============================] - ETA: 0s - loss: 0.1427 - accuracy: 0.9519\n",
      "Epoch 5: val_loss did not improve from 1.55126\n",
      "263/263 [==============================] - 1925s 7s/step - loss: 0.1427 - accuracy: 0.9519 - val_loss: 1.7674 - val_accuracy: 0.5658\n",
      "Epoch 6/10\n",
      "263/263 [==============================] - ETA: 0s - loss: 0.1145 - accuracy: 0.9604\n",
      "Epoch 6: val_loss did not improve from 1.55126\n",
      "263/263 [==============================] - 1891s 7s/step - loss: 0.1145 - accuracy: 0.9604 - val_loss: 1.8757 - val_accuracy: 0.5442\n",
      "Epoch 7/10\n",
      "263/263 [==============================] - ETA: 0s - loss: 0.0863 - accuracy: 0.9723\n",
      "Epoch 7: val_loss did not improve from 1.55126\n",
      "263/263 [==============================] - 1909s 7s/step - loss: 0.0863 - accuracy: 0.9723 - val_loss: 1.9471 - val_accuracy: 0.5192\n",
      "Epoch 8/10\n",
      "263/263 [==============================] - ETA: 0s - loss: 0.0939 - accuracy: 0.9688\n",
      "Epoch 8: val_loss did not improve from 1.55126\n",
      "Restoring model weights from the end of the best epoch: 5.\n",
      "263/263 [==============================] - 1874s 7s/step - loss: 0.0939 - accuracy: 0.9688 - val_loss: 2.2021 - val_accuracy: 0.5567\n",
      "Epoch 8: early stopping\n"
     ]
    }
   ],
   "source": [
    "model_sum = model.fit(train_dataset, validation_data=validation_dataset, epochs=10, callbacks=callbacks)"
   ]
  },
  {
   "cell_type": "code",
   "execution_count": 95,
   "metadata": {},
   "outputs": [],
   "source": [
    "from tensorflow.keras.applications import VGG16\n",
    "from tensorflow import keras\n",
    "from keras.layers import Dense, Conv2D, MaxPooling2D, Flatten, Dropout, \\\n",
    "    BatchNormalization, Activation, SpatialDropout2D, GlobalAveragePooling2D\n",
    "from keras.optimizers import Adam, SGD\n",
    "from keras.models import Sequential, Model\n",
    "\n",
    "\n",
    "model_1 = VGG16(weights = 'imagenet', input_shape=(224, 224, 3), include_top = False)\n",
    "\n",
    "model_1.trainable = False\n",
    "\n",
    "\n",
    "model_2 = Sequential()\n",
    "\n",
    "model_2.add(Conv2D(128, (5, 5), padding='same', input_shape=model_1.output_shape[1:]))\n",
    "model_2.add(Conv2D(256, kernel_size=(3, 3), activation='relu', padding='same'))\n",
    "model_2.add(BatchNormalization())\n",
    "model_2.add(MaxPooling2D(pool_size=(2, 2)))\n",
    "model_2.add(SpatialDropout2D(0.25))\n",
    "\n",
    "model_2.add(Flatten())\n",
    "\n",
    "model_2.add(Dense(64, activation='relu'))\n",
    "model_2.add(Dense(256, activation='relu'))\n",
    "model_2.add(Dense(6, activation='softmax'))\n",
    "\n",
    "model = Model(inputs=model_1.input, outputs=model_2(model_1.output))\n",
    "\n",
    "for layer in model.layers[:100]:\n",
    "    layer.trainable = True\n",
    "    \n",
    "model.compile(optimizer=Adam(learning_rate=0.0001,\n",
    "                  decay=1e-6), \n",
    "                  loss='categorical_crossentropy', \n",
    "                  metrics=['accuracy'])"
   ]
  },
  {
   "cell_type": "code",
   "execution_count": 96,
   "metadata": {},
   "outputs": [],
   "source": [
    "from keras.callbacks import ModelCheckpoint, EarlyStopping\n",
    "\n",
    "chk_path = 'CustomVGG.h5'\n",
    "\n",
    "checkpoint = ModelCheckpoint(filepath=chk_path,\n",
    "                             save_best_only=True,\n",
    "                             verbose=1,\n",
    "                             moniter='val_accuracy')\n",
    "\n",
    "earlystop = EarlyStopping(monitor='val_accuracy',  \n",
    "                          patience=3, \n",
    "                          verbose=1, \n",
    "                          restore_best_weights=True)\n",
    "\n",
    "callbacks = [checkpoint, earlystop]"
   ]
  },
  {
   "cell_type": "code",
   "execution_count": 97,
   "metadata": {},
   "outputs": [
    {
     "name": "stdout",
     "output_type": "stream",
     "text": [
      "Epoch 1/2\n"
     ]
    },
    {
     "name": "stdout",
     "output_type": "stream",
     "text": [
      "263/263 [==============================] - ETA: 0s - loss: 1.7238 - accuracy: 0.2496 \n",
      "Epoch 1: val_loss improved from inf to 1.59768, saving model to CustomVGG.h5\n",
      "263/263 [==============================] - 4490s 17s/step - loss: 1.7238 - accuracy: 0.2496 - val_loss: 1.5977 - val_accuracy: 0.3425\n",
      "Epoch 2/2\n",
      "263/263 [==============================] - ETA: 0s - loss: 1.4441 - accuracy: 0.4275 \n",
      "Epoch 2: val_loss improved from 1.59768 to 1.36291, saving model to CustomVGG.h5\n",
      "263/263 [==============================] - 3891s 15s/step - loss: 1.4441 - accuracy: 0.4275 - val_loss: 1.3629 - val_accuracy: 0.4708\n"
     ]
    }
   ],
   "source": [
    "model_sum = model.fit(train_dataset, validation_data=validation_dataset, epochs=2, callbacks=callbacks)"
   ]
  },
  {
   "cell_type": "code",
   "execution_count": 98,
   "metadata": {},
   "outputs": [
    {
     "name": "stdout",
     "output_type": "stream",
     "text": [
      "Epoch 1/7\n"
     ]
    },
    {
     "name": "stdout",
     "output_type": "stream",
     "text": [
      "263/263 [==============================] - ETA: 0s - loss: 1.2739 - accuracy: 0.4980 \n",
      "Epoch 1: val_loss improved from 1.36291 to 1.25657, saving model to CustomVGG.h5\n",
      "263/263 [==============================] - 3875s 15s/step - loss: 1.2739 - accuracy: 0.4980 - val_loss: 1.2566 - val_accuracy: 0.5075\n",
      "Epoch 2/7\n",
      "263/263 [==============================] - ETA: 0s - loss: 1.1708 - accuracy: 0.5432 \n",
      "Epoch 2: val_loss improved from 1.25657 to 1.23136, saving model to CustomVGG.h5\n",
      "263/263 [==============================] - 3859s 15s/step - loss: 1.1708 - accuracy: 0.5432 - val_loss: 1.2314 - val_accuracy: 0.5200\n",
      "Epoch 3/7\n",
      "263/263 [==============================] - ETA: 0s - loss: 1.0877 - accuracy: 0.5752 \n",
      "Epoch 3: val_loss improved from 1.23136 to 1.14636, saving model to CustomVGG.h5\n",
      "263/263 [==============================] - 3875s 15s/step - loss: 1.0877 - accuracy: 0.5752 - val_loss: 1.1464 - val_accuracy: 0.5592\n",
      "Epoch 4/7\n",
      "263/263 [==============================] - ETA: 0s - loss: 1.0042 - accuracy: 0.6129 \n",
      "Epoch 4: val_loss did not improve from 1.14636\n",
      "263/263 [==============================] - 3841s 15s/step - loss: 1.0042 - accuracy: 0.6129 - val_loss: 1.1698 - val_accuracy: 0.5408\n",
      "Epoch 5/7\n",
      "263/263 [==============================] - ETA: 0s - loss: 0.9179 - accuracy: 0.6477 \n",
      "Epoch 5: val_loss did not improve from 1.14636\n",
      "263/263 [==============================] - 3842s 15s/step - loss: 0.9179 - accuracy: 0.6477 - val_loss: 1.1955 - val_accuracy: 0.5458\n",
      "Epoch 6/7\n",
      "263/263 [==============================] - ETA: 0s - loss: 0.8323 - accuracy: 0.6854 \n",
      "Epoch 6: val_loss did not improve from 1.14636\n",
      "Restoring model weights from the end of the best epoch: 3.\n",
      "263/263 [==============================] - 3847s 15s/step - loss: 0.8323 - accuracy: 0.6854 - val_loss: 1.1912 - val_accuracy: 0.5542\n",
      "Epoch 6: early stopping\n"
     ]
    }
   ],
   "source": [
    "model_sum = model.fit(train_dataset, validation_data=validation_dataset, epochs=7, callbacks=callbacks)"
   ]
  },
  {
   "cell_type": "code",
   "execution_count": 88,
   "metadata": {},
   "outputs": [
    {
     "name": "stdout",
     "output_type": "stream",
     "text": [
      "<keras.engine.input_layer.InputLayer object at 0x13b773b50>\n",
      "<keras.layers.convolutional.conv2d.Conv2D object at 0x10a761eb0>\n",
      "<keras.layers.convolutional.conv2d.Conv2D object at 0x13bc0b4c0>\n",
      "<keras.layers.pooling.max_pooling2d.MaxPooling2D object at 0x160b70ca0>\n",
      "<keras.layers.convolutional.conv2d.Conv2D object at 0x13bc01fd0>\n",
      "<keras.layers.convolutional.conv2d.Conv2D object at 0x13b7663a0>\n",
      "<keras.layers.pooling.max_pooling2d.MaxPooling2D object at 0x13b766fa0>\n",
      "<keras.layers.convolutional.conv2d.Conv2D object at 0x13c5daeb0>\n",
      "<keras.layers.convolutional.conv2d.Conv2D object at 0x13b7660a0>\n",
      "<keras.layers.convolutional.conv2d.Conv2D object at 0x13b766be0>\n",
      "<keras.layers.pooling.max_pooling2d.MaxPooling2D object at 0x13b762550>\n",
      "<keras.layers.convolutional.conv2d.Conv2D object at 0x13bc0bd30>\n",
      "<keras.layers.convolutional.conv2d.Conv2D object at 0x13bc33160>\n",
      "<keras.layers.convolutional.conv2d.Conv2D object at 0x13b75c0a0>\n",
      "<keras.layers.pooling.max_pooling2d.MaxPooling2D object at 0x13b989730>\n",
      "<keras.layers.convolutional.conv2d.Conv2D object at 0x13bc01a30>\n",
      "<keras.layers.convolutional.conv2d.Conv2D object at 0x13b989460>\n",
      "<keras.layers.convolutional.conv2d.Conv2D object at 0x13bc0bbe0>\n",
      "<keras.layers.pooling.max_pooling2d.MaxPooling2D object at 0x13b76cd30>\n",
      "<keras.engine.sequential.Sequential object at 0x13b75cd90>\n"
     ]
    }
   ],
   "source": [
    "for layer in model.layers:\n",
    "    print(layer)\n",
    "    #layer.trainable = True"
   ]
  },
  {
   "cell_type": "code",
   "execution_count": 33,
   "metadata": {},
   "outputs": [],
   "source": [
    "from tensorflow.keras.applications import EfficientNetB7\n",
    "from tensorflow import keras\n",
    "from keras.layers import Dense, Conv2D, MaxPooling2D, Flatten, Dropout, \\\n",
    "    BatchNormalization, SpatialDropout2D\n",
    "from keras.optimizers import Adam\n",
    "from keras.models import Sequential, Model\n",
    "\n",
    "# Load pre-trained EfficientNetB0 model\n",
    "model_1 = EfficientNetB7(weights='imagenet', input_shape=(224, 224, 3), include_top=False)\n",
    "\n",
    "model_1.trainable = False\n",
    "\n",
    "model_2 = Sequential()\n",
    "\n",
    "model_2.add(Conv2D(128, (5, 5), padding='same', input_shape=model_1.output_shape[1:]))\n",
    "# model_2.add(Conv2D(256, kernel_size=(3, 3), activation='relu', padding='same'))\n",
    "model_2.add(BatchNormalization())\n",
    "model_2.add(MaxPooling2D(pool_size=(2, 2)))\n",
    "model_2.add(SpatialDropout2D(0.25))\n",
    "\n",
    "model_2.add(Flatten())\n",
    "\n",
    "model_2.add(Dense(64, activation='relu'))\n",
    "model_2.add(Dense(256, activation='relu'))\n",
    "model_2.add(Dense(6, activation='softmax'))\n",
    "\n",
    "model = Model(inputs=model_1.input, outputs=model_2(model_1.output))\n",
    "\n",
    "# Fine-tune only a subset of layers\n",
    "for layer in model.layers[:100]:\n",
    "    layer.trainable = True\n",
    "\n",
    "model.compile(optimizer=Adam(learning_rate=0.0001, decay=1e-6),\n",
    "              loss='categorical_crossentropy',\n",
    "              metrics=['accuracy'])"
   ]
  },
  {
   "cell_type": "code",
   "execution_count": 35,
   "metadata": {},
   "outputs": [],
   "source": [
    "from keras.callbacks import ModelCheckpoint, EarlyStopping\n",
    "\n",
    "chk_path = 'CustomEfficientB7.h5'\n",
    "\n",
    "checkpoint = ModelCheckpoint(filepath=chk_path,\n",
    "                             save_best_only=True,\n",
    "                             verbose=1,\n",
    "                             moniter='val_accuracy')\n",
    "\n",
    "earlystop = EarlyStopping(monitor='val_accuracy',  \n",
    "                          patience=3, \n",
    "                          verbose=1, \n",
    "                          restore_best_weights=True)\n",
    "\n",
    "callbacks = [checkpoint, earlystop]"
   ]
  },
  {
   "cell_type": "code",
   "execution_count": 32,
   "metadata": {},
   "outputs": [
    {
     "name": "stdout",
     "output_type": "stream",
     "text": [
      "Epoch 1/15\n",
      "263/263 [==============================] - ETA: 0s - loss: 1.7257 - accuracy: 0.2582\n",
      "Epoch 1: val_loss did not improve from 1.73317\n",
      "263/263 [==============================] - 46s 173ms/step - loss: 1.7257 - accuracy: 0.2582 - val_loss: 1.7395 - val_accuracy: 0.2767\n",
      "Epoch 2/15\n",
      "263/263 [==============================] - ETA: 0s - loss: 1.7127 - accuracy: 0.2790\n",
      "Epoch 2: val_loss did not improve from 1.73317\n",
      "263/263 [==============================] - 33s 126ms/step - loss: 1.7127 - accuracy: 0.2790 - val_loss: 1.7713 - val_accuracy: 0.2400\n",
      "Epoch 3/15\n",
      "263/263 [==============================] - ETA: 0s - loss: 1.7010 - accuracy: 0.2832\n",
      "Epoch 3: val_loss did not improve from 1.73317\n",
      "263/263 [==============================] - 38s 146ms/step - loss: 1.7010 - accuracy: 0.2832 - val_loss: 1.7639 - val_accuracy: 0.2492\n",
      "Epoch 4/15\n",
      "263/263 [==============================] - ETA: 0s - loss: 1.6883 - accuracy: 0.2982\n",
      "Epoch 4: val_loss did not improve from 1.73317\n",
      "Restoring model weights from the end of the best epoch: 1.\n",
      "263/263 [==============================] - 36s 135ms/step - loss: 1.6883 - accuracy: 0.2982 - val_loss: 1.7629 - val_accuracy: 0.2517\n",
      "Epoch 4: early stopping\n"
     ]
    }
   ],
   "source": [
    "model_sum = model.fit(train_dataset, validation_data=validation_dataset, epochs=15, callbacks=callbacks)"
   ]
  },
  {
   "cell_type": "code",
   "execution_count": 58,
   "metadata": {},
   "outputs": [
    {
     "name": "stdout",
     "output_type": "stream",
     "text": [
      "CustomNet.h5\n",
      "CustomNet_VGG_ResNet_EfficientNet_Training.ipynb\n",
      "CustomVGG.h5\n",
      "CustomVGG_LATEST.h5\n",
      "Final_Project.ipynb\n",
      "Loss_Accuracy.ipynb\n",
      "More_Data_Training.ipynb\n",
      "ResNet_VGG_Testing.ipynb\n",
      "VGG_Face.ipynb\n"
     ]
    }
   ],
   "source": [
    "%ls"
   ]
  },
  {
   "cell_type": "code",
   "execution_count": 59,
   "metadata": {},
   "outputs": [],
   "source": [
    "from keras.applications import VGG16\n",
    "from keras.layers import MaxPooling2D\n",
    "\n",
    "model_1 = VGG16(weights = None, input_shape=(224, 224, 3), include_top = False)\n",
    "\n",
    "model_1.trainable = False\n",
    "\n",
    "\n",
    "model_2 = Sequential()\n",
    "\n",
    "model_2.add(Conv2D(128, (5, 5), padding='same', input_shape=model_1.output_shape[1:]))\n",
    "model_2.add(Conv2D(256, kernel_size=(3, 3), activation='relu', padding='same'))\n",
    "model_2.add(BatchNormalization())\n",
    "model_2.add(MaxPooling2D(pool_size=(2, 2)))\n",
    "model_2.add(SpatialDropout2D(0.25))\n",
    "\n",
    "model_2.add(Flatten())\n",
    "\n",
    "model_2.add(Dense(64, activation='relu'))\n",
    "model_2.add(Dense(256, activation='relu'))\n",
    "model_2.add(Dense(6, activation='softmax'))\n",
    "\n",
    "model = Model(inputs=model_1.input, outputs=model_2(model_1.output))\n",
    "\n",
    "model.load_weights('./CustomVGG_LATEST.h5')\n",
    "    \n",
    "model.compile(optimizer=Adam(learning_rate=0.0001), \n",
    "                  loss='categorical_crossentropy', \n",
    "                  metrics=['accuracy'])"
   ]
  },
  {
   "cell_type": "code",
   "execution_count": 60,
   "metadata": {},
   "outputs": [
    {
     "name": "stdout",
     "output_type": "stream",
     "text": [
      "595/595 [==============================] - ETA: 0s - loss: 0.8181 - accuracy: 0.6924\n",
      "Epoch 1: val_loss improved from inf to 0.83177, saving model to ../CustomVGG_LATEST.h5\n"
     ]
    },
    {
     "name": "stderr",
     "output_type": "stream",
     "text": [
      "/Users/jasur/Library/Python/3.9/lib/python/site-packages/keras/src/engine/training.py:3103: UserWarning: You are saving your model as an HDF5 file via `model.save()`. This file format is considered legacy. We recommend using instead the native Keras format, e.g. `model.save('my_model.keras')`.\n",
      "  saving_api.save_model(\n"
     ]
    },
    {
     "name": "stdout",
     "output_type": "stream",
     "text": [
      "595/595 [==============================] - 3195s 5s/step - loss: 0.8181 - accuracy: 0.6924 - val_loss: 0.8318 - val_accuracy: 0.6850\n"
     ]
    },
    {
     "data": {
      "text/plain": [
       "<keras.src.callbacks.History at 0x138a00040>"
      ]
     },
     "execution_count": 60,
     "metadata": {},
     "output_type": "execute_result"
    }
   ],
   "source": [
    "from keras.callbacks import ModelCheckpoint, EarlyStopping\n",
    "\n",
    "chk_path = '../CustomVGG_LATEST.h5'\n",
    "\n",
    "checkpoint = ModelCheckpoint(filepath=chk_path,\n",
    "                             save_best_only=True,\n",
    "                             verbose=1,\n",
    "                             moniter='val_accuracy')\n",
    "\n",
    "earlystop = EarlyStopping(monitor='val_accuracy',  \n",
    "                          patience=3, \n",
    "                          verbose=1, \n",
    "                          restore_best_weights=True)\n",
    "\n",
    "callbacks = [checkpoint, earlystop]\n",
    "\n",
    "# Epoch 4\n",
    "model.fit(train_dataset, validation_data=validation_dataset, epochs=1, callbacks=callbacks)"
   ]
  },
  {
   "cell_type": "code",
   "execution_count": 53,
   "metadata": {},
   "outputs": [
    {
     "name": "stdout",
     "output_type": "stream",
     "text": [
      "Epoch 1/2\n",
      "595/595 [==============================] - ETA: 0s - loss: 0.8665 - accuracy: 0.6772\n",
      "Epoch 1: val_loss improved from 0.85203 to 0.82816, saving model to ../CustomVGG_LATEST.h5\n",
      "595/595 [==============================] - 3180s 5s/step - loss: 0.8665 - accuracy: 0.6772 - val_loss: 0.8282 - val_accuracy: 0.6942\n",
      "Epoch 2/2\n",
      "595/595 [==============================] - ETA: 0s - loss: 0.8402 - accuracy: 0.6845\n",
      "Epoch 2: val_loss improved from 0.82816 to 0.80357, saving model to ../CustomVGG_LATEST.h5\n",
      "595/595 [==============================] - 3341s 6s/step - loss: 0.8402 - accuracy: 0.6845 - val_loss: 0.8036 - val_accuracy: 0.7094\n"
     ]
    },
    {
     "data": {
      "text/plain": [
       "<keras.src.callbacks.History at 0x13819d430>"
      ]
     },
     "execution_count": 53,
     "metadata": {},
     "output_type": "execute_result"
    }
   ],
   "source": [
    "# Epoch 2 and 3\n",
    "model.fit(train_dataset, validation_data=validation_dataset, epochs=2, callbacks=callbacks)"
   ]
  },
  {
   "cell_type": "code",
   "execution_count": 54,
   "metadata": {},
   "outputs": [
    {
     "name": "stdout",
     "output_type": "stream",
     "text": [
      "186/186 [==============================] - 868s 5s/step - loss: 0.9832 - accuracy: 0.6198\n",
      "Test loss:  0.9832393527030945\n",
      "Test accuracy:  0.6197943091392517\n"
     ]
    }
   ],
   "source": [
    "# Testing after 3 epochs\n",
    "model_test = model.evaluate(test_dataset)\n",
    "\n",
    "print(\"Test loss: \", model_test[0])\n",
    "print(\"Test accuracy: \", model_test[1])"
   ]
  },
  {
   "cell_type": "code",
   "execution_count": 61,
   "metadata": {},
   "outputs": [
    {
     "name": "stdout",
     "output_type": "stream",
     "text": [
      "Epoch 1/10\n",
      "595/595 [==============================] - ETA: 0s - loss: 0.7939 - accuracy: 0.7015\n",
      "Epoch 1: val_loss improved from 0.83177 to 0.74159, saving model to ../CustomVGG_LATEST.h5\n",
      "595/595 [==============================] - 3135s 5s/step - loss: 0.7939 - accuracy: 0.7015 - val_loss: 0.7416 - val_accuracy: 0.7268\n",
      "Epoch 2/10\n",
      "595/595 [==============================] - ETA: 0s - loss: 0.7654 - accuracy: 0.7130\n",
      "Epoch 2: val_loss improved from 0.74159 to 0.71801, saving model to ../CustomVGG_LATEST.h5\n",
      "595/595 [==============================] - 3122s 5s/step - loss: 0.7654 - accuracy: 0.7130 - val_loss: 0.7180 - val_accuracy: 0.7365\n",
      "Epoch 3/10\n",
      "595/595 [==============================] - ETA: 0s - loss: 0.7425 - accuracy: 0.7219\n",
      "Epoch 3: val_loss did not improve from 0.71801\n",
      "595/595 [==============================] - 3144s 5s/step - loss: 0.7425 - accuracy: 0.7219 - val_loss: 0.7195 - val_accuracy: 0.7284\n",
      "Epoch 4/10\n",
      "595/595 [==============================] - ETA: 0s - loss: 0.7118 - accuracy: 0.7320\n",
      "Epoch 4: val_loss improved from 0.71801 to 0.66649, saving model to ../CustomVGG_LATEST.h5\n",
      "595/595 [==============================] - 3139s 5s/step - loss: 0.7118 - accuracy: 0.7320 - val_loss: 0.6665 - val_accuracy: 0.7568\n",
      "Epoch 5/10\n",
      "595/595 [==============================] - ETA: 0s - loss: 0.6894 - accuracy: 0.7416\n",
      "Epoch 5: val_loss improved from 0.66649 to 0.61962, saving model to ../CustomVGG_LATEST.h5\n",
      "595/595 [==============================] - 3147s 5s/step - loss: 0.6894 - accuracy: 0.7416 - val_loss: 0.6196 - val_accuracy: 0.7749\n",
      "Epoch 6/10\n",
      "595/595 [==============================] - ETA: 0s - loss: 0.6535 - accuracy: 0.7567\n",
      "Epoch 6: val_loss improved from 0.61962 to 0.57926, saving model to ../CustomVGG_LATEST.h5\n",
      "595/595 [==============================] - 3114s 5s/step - loss: 0.6535 - accuracy: 0.7567 - val_loss: 0.5793 - val_accuracy: 0.7867\n",
      "Epoch 7/10\n",
      "595/595 [==============================] - ETA: 0s - loss: 0.6206 - accuracy: 0.7681\n",
      "Epoch 7: val_loss improved from 0.57926 to 0.54769, saving model to ../CustomVGG_LATEST.h5\n",
      "595/595 [==============================] - 3118s 5s/step - loss: 0.6206 - accuracy: 0.7681 - val_loss: 0.5477 - val_accuracy: 0.8025\n",
      "Epoch 8/10\n",
      "595/595 [==============================] - ETA: 0s - loss: 0.5809 - accuracy: 0.7867\n",
      "Epoch 8: val_loss improved from 0.54769 to 0.51134, saving model to ../CustomVGG_LATEST.h5\n",
      "595/595 [==============================] - 3126s 5s/step - loss: 0.5809 - accuracy: 0.7867 - val_loss: 0.5113 - val_accuracy: 0.8262\n",
      "Epoch 9/10\n",
      "595/595 [==============================] - ETA: 0s - loss: 0.5549 - accuracy: 0.7946\n",
      "Epoch 9: val_loss improved from 0.51134 to 0.46667, saving model to ../CustomVGG_LATEST.h5\n",
      "595/595 [==============================] - 3154s 5s/step - loss: 0.5549 - accuracy: 0.7946 - val_loss: 0.4667 - val_accuracy: 0.8430\n",
      "Epoch 10/10\n",
      "595/595 [==============================] - ETA: 0s - loss: 0.5146 - accuracy: 0.8093\n",
      "Epoch 10: val_loss improved from 0.46667 to 0.40597, saving model to ../CustomVGG_LATEST.h5\n",
      "595/595 [==============================] - 3122s 5s/step - loss: 0.5146 - accuracy: 0.8093 - val_loss: 0.4060 - val_accuracy: 0.8641\n"
     ]
    },
    {
     "data": {
      "text/plain": [
       "<keras.src.callbacks.History at 0x138b985e0>"
      ]
     },
     "execution_count": 61,
     "metadata": {},
     "output_type": "execute_result"
    }
   ],
   "source": [
    "# Epoch 5 to 15\n",
    "model.fit(train_dataset, validation_data=validation_dataset, epochs=10, callbacks=callbacks)"
   ]
  },
  {
   "cell_type": "code",
   "execution_count": 62,
   "metadata": {},
   "outputs": [
    {
     "name": "stdout",
     "output_type": "stream",
     "text": [
      "186/186 [==============================] - 844s 5s/step - loss: 1.1215 - accuracy: 0.6370\n",
      "Test loss:  1.1215119361877441\n",
      "Test accuracy:  0.6369920969009399\n"
     ]
    }
   ],
   "source": [
    "# Testing after 15 epochs\n",
    "model_test = model.evaluate(test_dataset)\n",
    "\n",
    "print(\"Test loss: \", model_test[0])\n",
    "print(\"Test accuracy: \", model_test[1])"
   ]
  },
  {
   "cell_type": "code",
   "execution_count": 63,
   "metadata": {},
   "outputs": [
    {
     "name": "stdout",
     "output_type": "stream",
     "text": [
      "186/186 [==============================] - 803s 4s/step - loss: 1.1215 - accuracy: 0.6370\n",
      "Test loss:  1.1215119361877441\n",
      "Test accuracy:  0.6369920969009399\n"
     ]
    }
   ],
   "source": [
    "# Testing after 15 epochs\n",
    "model_test = model.evaluate(test_dataset)\n",
    "\n",
    "print(\"Test loss: \", model_test[0])\n",
    "print(\"Test accuracy: \", model_test[1])"
   ]
  }
 ],
 "metadata": {
  "kernelspec": {
   "display_name": "Python 3",
   "language": "python",
   "name": "python3"
  },
  "language_info": {
   "codemirror_mode": {
    "name": "ipython",
    "version": 3
   },
   "file_extension": ".py",
   "mimetype": "text/x-python",
   "name": "python",
   "nbconvert_exporter": "python",
   "pygments_lexer": "ipython3",
   "version": "3.9.6"
  }
 },
 "nbformat": 4,
 "nbformat_minor": 2
}
